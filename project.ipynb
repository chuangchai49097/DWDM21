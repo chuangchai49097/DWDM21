{
  "nbformat": 4,
  "nbformat_minor": 0,
  "metadata": {
    "colab": {
      "name": "project.ipynb",
      "provenance": [],
      "authorship_tag": "ABX9TyM4W/oXneW0QKkGOAfBHCrr",
      "include_colab_link": true
    },
    "kernelspec": {
      "display_name": "Python 3",
      "name": "python3"
    },
    "language_info": {
      "name": "python"
    }
  },
  "cells": [
    {
      "cell_type": "markdown",
      "metadata": {
        "id": "view-in-github",
        "colab_type": "text"
      },
      "source": [
        "<a href=\"https://colab.research.google.com/github/chuangchai49097/DWDM21/blob/main/project.ipynb\" target=\"_parent\"><img src=\"https://colab.research.google.com/assets/colab-badge.svg\" alt=\"Open In Colab\"/></a>"
      ]
    },
    {
      "cell_type": "markdown",
      "metadata": {
        "id": "aKXzshNNNGND"
      },
      "source": [
        "Project กลุ่ม\n",
        "\n",
        "present วันที่ 31 สิงหาคม 2564\n",
        "\n",
        "ข้อมูลที่ไปดึงมาจาก 3 แหล่ง\n",
        "\n",
        "แสดงวิธีการโหลด\n",
        "\n",
        "ความเชื่อมโยงของ 3 ตาราง (index)"
      ]
    },
    {
      "cell_type": "code",
      "metadata": {
        "id": "4933M74xNAuz"
      },
      "source": [
        "import pandas as pd # ข้อมูลลักษณะ ตาราง"
      ],
      "execution_count": null,
      "outputs": []
    },
    {
      "cell_type": "code",
      "metadata": {
        "id": "71PiilLtOFlU",
        "colab": {
          "base_uri": "https://localhost:8080/"
        },
        "outputId": "8c4fb101-c592-4868-9795-982458b15bff"
      },
      "source": [
        "from google.colab import drive #เชื่อม google drive\n",
        "drive.mount('/content/drive')"
      ],
      "execution_count": null,
      "outputs": [
        {
          "output_type": "stream",
          "text": [
            "Mounted at /content/drive\n"
          ],
          "name": "stdout"
        }
      ]
    },
    {
      "cell_type": "code",
      "metadata": {
        "colab": {
          "base_uri": "https://localhost:8080/"
        },
        "id": "79izvqA9SB7H",
        "outputId": "0549ced3-bf43-410b-cfab-bee0138160d2"
      },
      "source": [
        "ls #เป็นคำสั่งไว้ตรวจสอบที่อยู่ของไฟลืว่ามีไฟล์ครบรึป่าว"
      ],
      "execution_count": null,
      "outputs": [
        {
          "output_type": "stream",
          "text": [
            "\u001b[0m\u001b[01;34mdrive\u001b[0m/  \u001b[01;34msample_data\u001b[0m/\n"
          ],
          "name": "stdout"
        }
      ]
    },
    {
      "cell_type": "code",
      "metadata": {
        "id": "fFhuHRMTSItO"
      },
      "source": [
        "import os # จัดการไฟล์เเละ path(ที่อยู่ของไฟล์)"
      ],
      "execution_count": null,
      "outputs": []
    },
    {
      "cell_type": "code",
      "metadata": {
        "id": "h0a4HZCKSUCX"
      },
      "source": [
        "path = '/content/drive/My Drive/PROJECT'"
      ],
      "execution_count": null,
      "outputs": []
    },
    {
      "cell_type": "markdown",
      "metadata": {
        "id": "U4icLnKpSX7C"
      },
      "source": [
        "## data 0"
      ]
    },
    {
      "cell_type": "code",
      "metadata": {
        "colab": {
          "base_uri": "https://localhost:8080/",
          "height": 416
        },
        "id": "YMgJ7HMoSVkQ",
        "outputId": "0b448bb8-89af-4371-972f-a80793afcf35"
      },
      "source": [
        "data = pd.read_csv(os.path.join(path,'workshop-participants.csv'))\n",
        "data"
      ],
      "execution_count": null,
      "outputs": [
        {
          "output_type": "execute_result",
          "data": {
            "text/html": [
              "<div>\n",
              "<style scoped>\n",
              "    .dataframe tbody tr th:only-of-type {\n",
              "        vertical-align: middle;\n",
              "    }\n",
              "\n",
              "    .dataframe tbody tr th {\n",
              "        vertical-align: top;\n",
              "    }\n",
              "\n",
              "    .dataframe thead th {\n",
              "        text-align: right;\n",
              "    }\n",
              "</style>\n",
              "<table border=\"1\" class=\"dataframe\">\n",
              "  <thead>\n",
              "    <tr style=\"text-align: right;\">\n",
              "      <th></th>\n",
              "      <th>Fiscal Year</th>\n",
              "      <th>Workshop Name</th>\n",
              "      <th>National paticipants</th>\n",
              "      <th>paticipants</th>\n",
              "    </tr>\n",
              "  </thead>\n",
              "  <tbody>\n",
              "    <tr>\n",
              "      <th>0</th>\n",
              "      <td>2010</td>\n",
              "      <td>ASEAN Workshops on Synchrotron Techniques</td>\n",
              "      <td>Thai</td>\n",
              "      <td>128</td>\n",
              "    </tr>\n",
              "    <tr>\n",
              "      <th>1</th>\n",
              "      <td>2010</td>\n",
              "      <td>ASEAN Workshops on Synchrotron Techniques</td>\n",
              "      <td>ASEN</td>\n",
              "      <td>7</td>\n",
              "    </tr>\n",
              "    <tr>\n",
              "      <th>2</th>\n",
              "      <td>2011</td>\n",
              "      <td>ASEAN Workshops on Synchrotron Techniques</td>\n",
              "      <td>Thai</td>\n",
              "      <td>148</td>\n",
              "    </tr>\n",
              "    <tr>\n",
              "      <th>3</th>\n",
              "      <td>2011</td>\n",
              "      <td>ASEAN Workshops on Synchrotron Techniques</td>\n",
              "      <td>ASEN</td>\n",
              "      <td>8</td>\n",
              "    </tr>\n",
              "    <tr>\n",
              "      <th>4</th>\n",
              "      <td>2011</td>\n",
              "      <td>ASEAN Workshops on Synchrotron Techniques</td>\n",
              "      <td>International</td>\n",
              "      <td>6</td>\n",
              "    </tr>\n",
              "    <tr>\n",
              "      <th>...</th>\n",
              "      <td>...</td>\n",
              "      <td>...</td>\n",
              "      <td>...</td>\n",
              "      <td>...</td>\n",
              "    </tr>\n",
              "    <tr>\n",
              "      <th>77</th>\n",
              "      <td>2015</td>\n",
              "      <td>Annual User Meeting (AUM)</td>\n",
              "      <td>Thai</td>\n",
              "      <td>123</td>\n",
              "    </tr>\n",
              "    <tr>\n",
              "      <th>78</th>\n",
              "      <td>2016</td>\n",
              "      <td>Annual User Meeting (AUM)</td>\n",
              "      <td>Thai</td>\n",
              "      <td>187</td>\n",
              "    </tr>\n",
              "    <tr>\n",
              "      <th>79</th>\n",
              "      <td>2017</td>\n",
              "      <td>Annual User Meeting (AUM)</td>\n",
              "      <td>Thai</td>\n",
              "      <td>87</td>\n",
              "    </tr>\n",
              "    <tr>\n",
              "      <th>80</th>\n",
              "      <td>2018</td>\n",
              "      <td>Annual User Meeting (AUM)</td>\n",
              "      <td>Thai</td>\n",
              "      <td>138</td>\n",
              "    </tr>\n",
              "    <tr>\n",
              "      <th>81</th>\n",
              "      <td>2019</td>\n",
              "      <td>Annual User Meeting (AUM)</td>\n",
              "      <td>Thai</td>\n",
              "      <td>130</td>\n",
              "    </tr>\n",
              "  </tbody>\n",
              "</table>\n",
              "<p>82 rows × 4 columns</p>\n",
              "</div>"
            ],
            "text/plain": [
              "    Fiscal Year   ... paticipants\n",
              "0           2010  ...         128\n",
              "1           2010  ...           7\n",
              "2           2011  ...         148\n",
              "3           2011  ...           8\n",
              "4           2011  ...           6\n",
              "..           ...  ...         ...\n",
              "77          2015  ...         123\n",
              "78          2016  ...         187\n",
              "79          2017  ...          87\n",
              "80          2018  ...         138\n",
              "81          2019  ...         130\n",
              "\n",
              "[82 rows x 4 columns]"
            ]
          },
          "metadata": {},
          "execution_count": 6
        }
      ]
    },
    {
      "cell_type": "code",
      "metadata": {
        "colab": {
          "base_uri": "https://localhost:8080/"
        },
        "id": "FUFAAvnkSZla",
        "outputId": "b9775bf9-deaa-4b9e-a1dd-55dd2110535c"
      },
      "source": [
        "data.shape #ตรวจสอบว่ามีกี่หลักกี่เเถว"
      ],
      "execution_count": null,
      "outputs": [
        {
          "output_type": "execute_result",
          "data": {
            "text/plain": [
              "(82, 4)"
            ]
          },
          "metadata": {},
          "execution_count": 7
        }
      ]
    },
    {
      "cell_type": "code",
      "metadata": {
        "colab": {
          "base_uri": "https://localhost:8080/",
          "height": 416
        },
        "id": "iBP64pSrSdoO",
        "outputId": "c3166487-6477-49ef-9696-b02b75b5a31c"
      },
      "source": [
        "data.iloc[0:,[0,2,3]] #ลองชี้้ตารางข้อมูลที่เราต้องการ"
      ],
      "execution_count": null,
      "outputs": [
        {
          "output_type": "execute_result",
          "data": {
            "text/html": [
              "<div>\n",
              "<style scoped>\n",
              "    .dataframe tbody tr th:only-of-type {\n",
              "        vertical-align: middle;\n",
              "    }\n",
              "\n",
              "    .dataframe tbody tr th {\n",
              "        vertical-align: top;\n",
              "    }\n",
              "\n",
              "    .dataframe thead th {\n",
              "        text-align: right;\n",
              "    }\n",
              "</style>\n",
              "<table border=\"1\" class=\"dataframe\">\n",
              "  <thead>\n",
              "    <tr style=\"text-align: right;\">\n",
              "      <th></th>\n",
              "      <th>Fiscal Year</th>\n",
              "      <th>National paticipants</th>\n",
              "      <th>paticipants</th>\n",
              "    </tr>\n",
              "  </thead>\n",
              "  <tbody>\n",
              "    <tr>\n",
              "      <th>0</th>\n",
              "      <td>2010</td>\n",
              "      <td>Thai</td>\n",
              "      <td>128</td>\n",
              "    </tr>\n",
              "    <tr>\n",
              "      <th>1</th>\n",
              "      <td>2010</td>\n",
              "      <td>ASEN</td>\n",
              "      <td>7</td>\n",
              "    </tr>\n",
              "    <tr>\n",
              "      <th>2</th>\n",
              "      <td>2011</td>\n",
              "      <td>Thai</td>\n",
              "      <td>148</td>\n",
              "    </tr>\n",
              "    <tr>\n",
              "      <th>3</th>\n",
              "      <td>2011</td>\n",
              "      <td>ASEN</td>\n",
              "      <td>8</td>\n",
              "    </tr>\n",
              "    <tr>\n",
              "      <th>4</th>\n",
              "      <td>2011</td>\n",
              "      <td>International</td>\n",
              "      <td>6</td>\n",
              "    </tr>\n",
              "    <tr>\n",
              "      <th>...</th>\n",
              "      <td>...</td>\n",
              "      <td>...</td>\n",
              "      <td>...</td>\n",
              "    </tr>\n",
              "    <tr>\n",
              "      <th>77</th>\n",
              "      <td>2015</td>\n",
              "      <td>Thai</td>\n",
              "      <td>123</td>\n",
              "    </tr>\n",
              "    <tr>\n",
              "      <th>78</th>\n",
              "      <td>2016</td>\n",
              "      <td>Thai</td>\n",
              "      <td>187</td>\n",
              "    </tr>\n",
              "    <tr>\n",
              "      <th>79</th>\n",
              "      <td>2017</td>\n",
              "      <td>Thai</td>\n",
              "      <td>87</td>\n",
              "    </tr>\n",
              "    <tr>\n",
              "      <th>80</th>\n",
              "      <td>2018</td>\n",
              "      <td>Thai</td>\n",
              "      <td>138</td>\n",
              "    </tr>\n",
              "    <tr>\n",
              "      <th>81</th>\n",
              "      <td>2019</td>\n",
              "      <td>Thai</td>\n",
              "      <td>130</td>\n",
              "    </tr>\n",
              "  </tbody>\n",
              "</table>\n",
              "<p>82 rows × 3 columns</p>\n",
              "</div>"
            ],
            "text/plain": [
              "    Fiscal Year  National paticipants  paticipants\n",
              "0           2010                 Thai          128\n",
              "1           2010                 ASEN            7\n",
              "2           2011                 Thai          148\n",
              "3           2011                 ASEN            8\n",
              "4           2011        International            6\n",
              "..           ...                  ...          ...\n",
              "77          2015                 Thai          123\n",
              "78          2016                 Thai          187\n",
              "79          2017                 Thai           87\n",
              "80          2018                 Thai          138\n",
              "81          2019                 Thai          130\n",
              "\n",
              "[82 rows x 3 columns]"
            ]
          },
          "metadata": {},
          "execution_count": 8
        }
      ]
    },
    {
      "cell_type": "code",
      "metadata": {
        "colab": {
          "base_uri": "https://localhost:8080/",
          "height": 295
        },
        "id": "KkO8nfqJSelz",
        "outputId": "05c5699c-58d3-41ae-f5ec-88abda94da81"
      },
      "source": [
        "data.describe() #เป็น method ของ Library ที่ชื่อ Pandas ใช้ในการสร้างสถิติเชิงบรรยายสถิติเชิงบรรยายที่ได้จะรวมถึงสถิติที่สรุปแนวโน้มศูนย์กลางการกระจายตัวและรูปร่างของการแจกแจงของชุดข้อมูลโดยจะไม่นับรวมค่า NaN หรือ missing data"
      ],
      "execution_count": null,
      "outputs": [
        {
          "output_type": "execute_result",
          "data": {
            "text/html": [
              "<div>\n",
              "<style scoped>\n",
              "    .dataframe tbody tr th:only-of-type {\n",
              "        vertical-align: middle;\n",
              "    }\n",
              "\n",
              "    .dataframe tbody tr th {\n",
              "        vertical-align: top;\n",
              "    }\n",
              "\n",
              "    .dataframe thead th {\n",
              "        text-align: right;\n",
              "    }\n",
              "</style>\n",
              "<table border=\"1\" class=\"dataframe\">\n",
              "  <thead>\n",
              "    <tr style=\"text-align: right;\">\n",
              "      <th></th>\n",
              "      <th>Fiscal Year</th>\n",
              "      <th>paticipants</th>\n",
              "    </tr>\n",
              "  </thead>\n",
              "  <tbody>\n",
              "    <tr>\n",
              "      <th>count</th>\n",
              "      <td>82.000000</td>\n",
              "      <td>82.000000</td>\n",
              "    </tr>\n",
              "    <tr>\n",
              "      <th>mean</th>\n",
              "      <td>2013.463415</td>\n",
              "      <td>130.451220</td>\n",
              "    </tr>\n",
              "    <tr>\n",
              "      <th>std</th>\n",
              "      <td>4.049676</td>\n",
              "      <td>194.623673</td>\n",
              "    </tr>\n",
              "    <tr>\n",
              "      <th>min</th>\n",
              "      <td>2004.000000</td>\n",
              "      <td>2.000000</td>\n",
              "    </tr>\n",
              "    <tr>\n",
              "      <th>25%</th>\n",
              "      <td>2011.000000</td>\n",
              "      <td>34.250000</td>\n",
              "    </tr>\n",
              "    <tr>\n",
              "      <th>50%</th>\n",
              "      <td>2014.000000</td>\n",
              "      <td>62.000000</td>\n",
              "    </tr>\n",
              "    <tr>\n",
              "      <th>75%</th>\n",
              "      <td>2017.000000</td>\n",
              "      <td>129.500000</td>\n",
              "    </tr>\n",
              "    <tr>\n",
              "      <th>max</th>\n",
              "      <td>2019.000000</td>\n",
              "      <td>963.000000</td>\n",
              "    </tr>\n",
              "  </tbody>\n",
              "</table>\n",
              "</div>"
            ],
            "text/plain": [
              "       Fiscal Year   paticipants\n",
              "count     82.000000    82.000000\n",
              "mean    2013.463415   130.451220\n",
              "std        4.049676   194.623673\n",
              "min     2004.000000     2.000000\n",
              "25%     2011.000000    34.250000\n",
              "50%     2014.000000    62.000000\n",
              "75%     2017.000000   129.500000\n",
              "max     2019.000000   963.000000"
            ]
          },
          "metadata": {},
          "execution_count": 9
        }
      ]
    },
    {
      "cell_type": "code",
      "metadata": {
        "id": "vyuC9kXYShal"
      },
      "source": [
        "from matplotlib import pyplot as plt"
      ],
      "execution_count": null,
      "outputs": []
    },
    {
      "cell_type": "code",
      "metadata": {
        "colab": {
          "base_uri": "https://localhost:8080/",
          "height": 400
        },
        "id": "Y7Dedr0JSjcR",
        "outputId": "a7305b79-0ebd-4bb8-d48d-ee3cb96513cb"
      },
      "source": [
        "plt.boxplot(data['paticipants'])"
      ],
      "execution_count": null,
      "outputs": [
        {
          "output_type": "execute_result",
          "data": {
            "text/plain": [
              "{'boxes': [<matplotlib.lines.Line2D at 0x7fe50fede350>],\n",
              " 'caps': [<matplotlib.lines.Line2D at 0x7fe50feec410>,\n",
              "  <matplotlib.lines.Line2D at 0x7fe50feec950>],\n",
              " 'fliers': [<matplotlib.lines.Line2D at 0x7fe50fed2910>],\n",
              " 'means': [],\n",
              " 'medians': [<matplotlib.lines.Line2D at 0x7fe50feeced0>],\n",
              " 'whiskers': [<matplotlib.lines.Line2D at 0x7fe50fede950>,\n",
              "  <matplotlib.lines.Line2D at 0x7fe50fedee90>]}"
            ]
          },
          "metadata": {},
          "execution_count": 11
        },
        {
          "output_type": "display_data",
          "data": {
            "image/png": "[encoded data removed]",
            "text/plain": [
              "<Figure size 432x288 with 1 Axes>"
            ]
          },
          "metadata": {
            "needs_background": "light"
          }
        }
      ]
    },
    {
      "cell_type": "markdown",
      "metadata": {
        "id": "UVihxaCaSmP6"
      },
      "source": [
        "### Missing Values"
      ]
    },
    {
      "cell_type": "code",
      "metadata": {
        "colab": {
          "base_uri": "https://localhost:8080/",
          "height": 416
        },
        "id": "W4EzgMDGSk0f",
        "outputId": "3152fed6-2049-4418-c245-51254d0b9240"
      },
      "source": [
        "data.isnull()"
      ],
      "execution_count": null,
      "outputs": [
        {
          "output_type": "execute_result",
          "data": {
            "text/html": [
              "<div>\n",
              "<style scoped>\n",
              "    .dataframe tbody tr th:only-of-type {\n",
              "        vertical-align: middle;\n",
              "    }\n",
              "\n",
              "    .dataframe tbody tr th {\n",
              "        vertical-align: top;\n",
              "    }\n",
              "\n",
              "    .dataframe thead th {\n",
              "        text-align: right;\n",
              "    }\n",
              "</style>\n",
              "<table border=\"1\" class=\"dataframe\">\n",
              "  <thead>\n",
              "    <tr style=\"text-align: right;\">\n",
              "      <th></th>\n",
              "      <th>Fiscal Year</th>\n",
              "      <th>Workshop Name</th>\n",
              "      <th>National paticipants</th>\n",
              "      <th>paticipants</th>\n",
              "    </tr>\n",
              "  </thead>\n",
              "  <tbody>\n",
              "    <tr>\n",
              "      <th>0</th>\n",
              "      <td>False</td>\n",
              "      <td>False</td>\n",
              "      <td>False</td>\n",
              "      <td>False</td>\n",
              "    </tr>\n",
              "    <tr>\n",
              "      <th>1</th>\n",
              "      <td>False</td>\n",
              "      <td>False</td>\n",
              "      <td>False</td>\n",
              "      <td>False</td>\n",
              "    </tr>\n",
              "    <tr>\n",
              "      <th>2</th>\n",
              "      <td>False</td>\n",
              "      <td>False</td>\n",
              "      <td>False</td>\n",
              "      <td>False</td>\n",
              "    </tr>\n",
              "    <tr>\n",
              "      <th>3</th>\n",
              "      <td>False</td>\n",
              "      <td>False</td>\n",
              "      <td>False</td>\n",
              "      <td>False</td>\n",
              "    </tr>\n",
              "    <tr>\n",
              "      <th>4</th>\n",
              "      <td>False</td>\n",
              "      <td>False</td>\n",
              "      <td>False</td>\n",
              "      <td>False</td>\n",
              "    </tr>\n",
              "    <tr>\n",
              "      <th>...</th>\n",
              "      <td>...</td>\n",
              "      <td>...</td>\n",
              "      <td>...</td>\n",
              "      <td>...</td>\n",
              "    </tr>\n",
              "    <tr>\n",
              "      <th>77</th>\n",
              "      <td>False</td>\n",
              "      <td>False</td>\n",
              "      <td>False</td>\n",
              "      <td>False</td>\n",
              "    </tr>\n",
              "    <tr>\n",
              "      <th>78</th>\n",
              "      <td>False</td>\n",
              "      <td>False</td>\n",
              "      <td>False</td>\n",
              "      <td>False</td>\n",
              "    </tr>\n",
              "    <tr>\n",
              "      <th>79</th>\n",
              "      <td>False</td>\n",
              "      <td>False</td>\n",
              "      <td>False</td>\n",
              "      <td>False</td>\n",
              "    </tr>\n",
              "    <tr>\n",
              "      <th>80</th>\n",
              "      <td>False</td>\n",
              "      <td>False</td>\n",
              "      <td>False</td>\n",
              "      <td>False</td>\n",
              "    </tr>\n",
              "    <tr>\n",
              "      <th>81</th>\n",
              "      <td>False</td>\n",
              "      <td>False</td>\n",
              "      <td>False</td>\n",
              "      <td>False</td>\n",
              "    </tr>\n",
              "  </tbody>\n",
              "</table>\n",
              "<p>82 rows × 4 columns</p>\n",
              "</div>"
            ],
            "text/plain": [
              "    Fiscal Year   Workshop Name  National paticipants  paticipants\n",
              "0          False          False                 False        False\n",
              "1          False          False                 False        False\n",
              "2          False          False                 False        False\n",
              "3          False          False                 False        False\n",
              "4          False          False                 False        False\n",
              "..           ...            ...                   ...          ...\n",
              "77         False          False                 False        False\n",
              "78         False          False                 False        False\n",
              "79         False          False                 False        False\n",
              "80         False          False                 False        False\n",
              "81         False          False                 False        False\n",
              "\n",
              "[82 rows x 4 columns]"
            ]
          },
          "metadata": {},
          "execution_count": 12
        }
      ]
    },
    {
      "cell_type": "code",
      "metadata": {
        "colab": {
          "base_uri": "https://localhost:8080/"
        },
        "id": "SQepZYy2SpEE",
        "outputId": "81538626-59bc-4f2c-c420-aca74fd5efbd"
      },
      "source": [
        "data.isnull().any()"
      ],
      "execution_count": null,
      "outputs": [
        {
          "output_type": "execute_result",
          "data": {
            "text/plain": [
              "Fiscal Year             False\n",
              "Workshop Name           False\n",
              "National paticipants    False\n",
              "paticipants             False\n",
              "dtype: bool"
            ]
          },
          "metadata": {},
          "execution_count": 13
        }
      ]
    },
    {
      "cell_type": "markdown",
      "metadata": {
        "id": "8fnLOsFlSsv6"
      },
      "source": [
        "พบว่าในข้อมูลไม่มี missing Values ข้อมูลเป็น False เเปลว่าถูกหมดเเล้ว ดังนั้นไม่ต้องทำ Hadling Missing Value"
      ]
    },
    {
      "cell_type": "code",
      "metadata": {
        "colab": {
          "base_uri": "https://localhost:8080/",
          "height": 400
        },
        "id": "Xr1tFU3kSqo9",
        "outputId": "bf3eba45-0157-434f-9aa1-443dc18a7d25"
      },
      "source": [
        "###ลองทำ Hadling Missing Value\n",
        "plt.boxplot(data['paticipants'].dropna())"
      ],
      "execution_count": null,
      "outputs": [
        {
          "output_type": "execute_result",
          "data": {
            "text/plain": [
              "{'boxes': [<matplotlib.lines.Line2D at 0x7fe50f9bd890>],\n",
              " 'caps': [<matplotlib.lines.Line2D at 0x7fe50f9c18d0>,\n",
              "  <matplotlib.lines.Line2D at 0x7fe50f9c1e10>],\n",
              " 'fliers': [<matplotlib.lines.Line2D at 0x7fe50f9ca910>],\n",
              " 'means': [],\n",
              " 'medians': [<matplotlib.lines.Line2D at 0x7fe50f9ca3d0>],\n",
              " 'whiskers': [<matplotlib.lines.Line2D at 0x7fe50f9bde10>,\n",
              "  <matplotlib.lines.Line2D at 0x7fe50f9c1390>]}"
            ]
          },
          "metadata": {},
          "execution_count": 14
        },
        {
          "output_type": "display_data",
          "data": {
            "image/png": "[encoded data removed]",
            "text/plain": [
              "<Figure size 432x288 with 1 Axes>"
            ]
          },
          "metadata": {
            "needs_background": "light"
          }
        }
      ]
    },
    {
      "cell_type": "code",
      "metadata": {
        "colab": {
          "base_uri": "https://localhost:8080/",
          "height": 416
        },
        "id": "KBTomBVJSvAd",
        "outputId": "cf3c00e4-93a8-4ab1-b8ee-a4f8de8a78db"
      },
      "source": [
        "data.dropna()"
      ],
      "execution_count": null,
      "outputs": [
        {
          "output_type": "execute_result",
          "data": {
            "text/html": [
              "<div>\n",
              "<style scoped>\n",
              "    .dataframe tbody tr th:only-of-type {\n",
              "        vertical-align: middle;\n",
              "    }\n",
              "\n",
              "    .dataframe tbody tr th {\n",
              "        vertical-align: top;\n",
              "    }\n",
              "\n",
              "    .dataframe thead th {\n",
              "        text-align: right;\n",
              "    }\n",
              "</style>\n",
              "<table border=\"1\" class=\"dataframe\">\n",
              "  <thead>\n",
              "    <tr style=\"text-align: right;\">\n",
              "      <th></th>\n",
              "      <th>Fiscal Year</th>\n",
              "      <th>Workshop Name</th>\n",
              "      <th>National paticipants</th>\n",
              "      <th>paticipants</th>\n",
              "    </tr>\n",
              "  </thead>\n",
              "  <tbody>\n",
              "    <tr>\n",
              "      <th>0</th>\n",
              "      <td>2010</td>\n",
              "      <td>ASEAN Workshops on Synchrotron Techniques</td>\n",
              "      <td>Thai</td>\n",
              "      <td>128</td>\n",
              "    </tr>\n",
              "    <tr>\n",
              "      <th>1</th>\n",
              "      <td>2010</td>\n",
              "      <td>ASEAN Workshops on Synchrotron Techniques</td>\n",
              "      <td>ASEN</td>\n",
              "      <td>7</td>\n",
              "    </tr>\n",
              "    <tr>\n",
              "      <th>2</th>\n",
              "      <td>2011</td>\n",
              "      <td>ASEAN Workshops on Synchrotron Techniques</td>\n",
              "      <td>Thai</td>\n",
              "      <td>148</td>\n",
              "    </tr>\n",
              "    <tr>\n",
              "      <th>3</th>\n",
              "      <td>2011</td>\n",
              "      <td>ASEAN Workshops on Synchrotron Techniques</td>\n",
              "      <td>ASEN</td>\n",
              "      <td>8</td>\n",
              "    </tr>\n",
              "    <tr>\n",
              "      <th>4</th>\n",
              "      <td>2011</td>\n",
              "      <td>ASEAN Workshops on Synchrotron Techniques</td>\n",
              "      <td>International</td>\n",
              "      <td>6</td>\n",
              "    </tr>\n",
              "    <tr>\n",
              "      <th>...</th>\n",
              "      <td>...</td>\n",
              "      <td>...</td>\n",
              "      <td>...</td>\n",
              "      <td>...</td>\n",
              "    </tr>\n",
              "    <tr>\n",
              "      <th>77</th>\n",
              "      <td>2015</td>\n",
              "      <td>Annual User Meeting (AUM)</td>\n",
              "      <td>Thai</td>\n",
              "      <td>123</td>\n",
              "    </tr>\n",
              "    <tr>\n",
              "      <th>78</th>\n",
              "      <td>2016</td>\n",
              "      <td>Annual User Meeting (AUM)</td>\n",
              "      <td>Thai</td>\n",
              "      <td>187</td>\n",
              "    </tr>\n",
              "    <tr>\n",
              "      <th>79</th>\n",
              "      <td>2017</td>\n",
              "      <td>Annual User Meeting (AUM)</td>\n",
              "      <td>Thai</td>\n",
              "      <td>87</td>\n",
              "    </tr>\n",
              "    <tr>\n",
              "      <th>80</th>\n",
              "      <td>2018</td>\n",
              "      <td>Annual User Meeting (AUM)</td>\n",
              "      <td>Thai</td>\n",
              "      <td>138</td>\n",
              "    </tr>\n",
              "    <tr>\n",
              "      <th>81</th>\n",
              "      <td>2019</td>\n",
              "      <td>Annual User Meeting (AUM)</td>\n",
              "      <td>Thai</td>\n",
              "      <td>130</td>\n",
              "    </tr>\n",
              "  </tbody>\n",
              "</table>\n",
              "<p>82 rows × 4 columns</p>\n",
              "</div>"
            ],
            "text/plain": [
              "    Fiscal Year   ... paticipants\n",
              "0           2010  ...         128\n",
              "1           2010  ...           7\n",
              "2           2011  ...         148\n",
              "3           2011  ...           8\n",
              "4           2011  ...           6\n",
              "..           ...  ...         ...\n",
              "77          2015  ...         123\n",
              "78          2016  ...         187\n",
              "79          2017  ...          87\n",
              "80          2018  ...         138\n",
              "81          2019  ...         130\n",
              "\n",
              "[82 rows x 4 columns]"
            ]
          },
          "metadata": {},
          "execution_count": 15
        }
      ]
    },
    {
      "cell_type": "code",
      "metadata": {
        "colab": {
          "base_uri": "https://localhost:8080/"
        },
        "id": "q_Uu8cvZSwjT",
        "outputId": "eb2426f1-fc91-4989-fa1b-c7ee343b9b1a"
      },
      "source": [
        "data.dropna().shape"
      ],
      "execution_count": null,
      "outputs": [
        {
          "output_type": "execute_result",
          "data": {
            "text/plain": [
              "(82, 4)"
            ]
          },
          "metadata": {},
          "execution_count": 16
        }
      ]
    },
    {
      "cell_type": "code",
      "metadata": {
        "colab": {
          "base_uri": "https://localhost:8080/"
        },
        "id": "CMiy47azS5Wt",
        "outputId": "2d9e0d11-5c61-4374-9963-01701fd30830"
      },
      "source": [
        "data.dropna().shape[0]"
      ],
      "execution_count": null,
      "outputs": [
        {
          "output_type": "execute_result",
          "data": {
            "text/plain": [
              "82"
            ]
          },
          "metadata": {},
          "execution_count": 17
        }
      ]
    },
    {
      "cell_type": "markdown",
      "metadata": {
        "id": "0PmHf7omS7Za"
      },
      "source": [
        "เเละเมื่อไม่ได้เเก้ missing เเล้ว พอทำ dropna() ข้อมูลจึงเท่าเดิมเพราะไม่มีค่า missing "
      ]
    },
    {
      "cell_type": "markdown",
      "metadata": {
        "id": "2u7ZedZbS_bd"
      },
      "source": [
        "##data2"
      ]
    },
    {
      "cell_type": "code",
      "metadata": {
        "colab": {
          "base_uri": "https://localhost:8080/",
          "height": 416
        },
        "id": "Ey8E5lSGS6NK",
        "outputId": "2877aaf1-432f-44de-ec73-4ec8bf80176e"
      },
      "source": [
        "data2 = pd.read_csv(os.path.join(path,'summary_beamtime-proposals-research-clusters.csv'))\n",
        "data2"
      ],
      "execution_count": null,
      "outputs": [
        {
          "output_type": "execute_result",
          "data": {
            "text/html": [
              "<div>\n",
              "<style scoped>\n",
              "    .dataframe tbody tr th:only-of-type {\n",
              "        vertical-align: middle;\n",
              "    }\n",
              "\n",
              "    .dataframe tbody tr th {\n",
              "        vertical-align: top;\n",
              "    }\n",
              "\n",
              "    .dataframe thead th {\n",
              "        text-align: right;\n",
              "    }\n",
              "</style>\n",
              "<table border=\"1\" class=\"dataframe\">\n",
              "  <thead>\n",
              "    <tr style=\"text-align: right;\">\n",
              "      <th></th>\n",
              "      <th>Fiscal Year</th>\n",
              "      <th>Research Clusters</th>\n",
              "      <th>Beamline</th>\n",
              "      <th>Proposals</th>\n",
              "    </tr>\n",
              "  </thead>\n",
              "  <tbody>\n",
              "    <tr>\n",
              "      <th>0</th>\n",
              "      <td>2017</td>\n",
              "      <td>Materials Science and Engineering</td>\n",
              "      <td>BL1.1W MXT</td>\n",
              "      <td>17</td>\n",
              "    </tr>\n",
              "    <tr>\n",
              "      <th>1</th>\n",
              "      <td>2017</td>\n",
              "      <td>Chemistry</td>\n",
              "      <td>BL1.1W MXT</td>\n",
              "      <td>3</td>\n",
              "    </tr>\n",
              "    <tr>\n",
              "      <th>2</th>\n",
              "      <td>2017</td>\n",
              "      <td>Biological and Life Science</td>\n",
              "      <td>BL1.1W MXT</td>\n",
              "      <td>1</td>\n",
              "    </tr>\n",
              "    <tr>\n",
              "      <th>3</th>\n",
              "      <td>2017</td>\n",
              "      <td>Earth Science, Gemology and Archeology</td>\n",
              "      <td>BL1.1W MXT</td>\n",
              "      <td>9</td>\n",
              "    </tr>\n",
              "    <tr>\n",
              "      <th>4</th>\n",
              "      <td>2017</td>\n",
              "      <td>Environmental Science</td>\n",
              "      <td>BL1.1W MXT</td>\n",
              "      <td>1</td>\n",
              "    </tr>\n",
              "    <tr>\n",
              "      <th>...</th>\n",
              "      <td>...</td>\n",
              "      <td>...</td>\n",
              "      <td>...</td>\n",
              "      <td>...</td>\n",
              "    </tr>\n",
              "    <tr>\n",
              "      <th>333</th>\n",
              "      <td>2020</td>\n",
              "      <td>Environmental Science</td>\n",
              "      <td>BL8 XAS</td>\n",
              "      <td>3</td>\n",
              "    </tr>\n",
              "    <tr>\n",
              "      <th>334</th>\n",
              "      <td>2020</td>\n",
              "      <td>Polymers</td>\n",
              "      <td>BL8 XAS</td>\n",
              "      <td>4</td>\n",
              "    </tr>\n",
              "    <tr>\n",
              "      <th>335</th>\n",
              "      <td>2020</td>\n",
              "      <td>Surface, Interface and Thin Films</td>\n",
              "      <td>BL8 XAS</td>\n",
              "      <td>6</td>\n",
              "    </tr>\n",
              "    <tr>\n",
              "      <th>336</th>\n",
              "      <td>2020</td>\n",
              "      <td>Food and Agricutural Science</td>\n",
              "      <td>BL8 XAS</td>\n",
              "      <td>3</td>\n",
              "    </tr>\n",
              "    <tr>\n",
              "      <th>337</th>\n",
              "      <td>2020</td>\n",
              "      <td>Biological and Life Science</td>\n",
              "      <td>BL8 XAS</td>\n",
              "      <td>1</td>\n",
              "    </tr>\n",
              "  </tbody>\n",
              "</table>\n",
              "<p>338 rows × 4 columns</p>\n",
              "</div>"
            ],
            "text/plain": [
              "     Fiscal Year   ... Proposals\n",
              "0            2017  ...        17\n",
              "1            2017  ...         3\n",
              "2            2017  ...         1\n",
              "3            2017  ...         9\n",
              "4            2017  ...         1\n",
              "..            ...  ...       ...\n",
              "333          2020  ...         3\n",
              "334          2020  ...         4\n",
              "335          2020  ...         6\n",
              "336          2020  ...         3\n",
              "337          2020  ...         1\n",
              "\n",
              "[338 rows x 4 columns]"
            ]
          },
          "metadata": {},
          "execution_count": 18
        }
      ]
    },
    {
      "cell_type": "code",
      "metadata": {
        "colab": {
          "base_uri": "https://localhost:8080/"
        },
        "id": "-_8OPcYpTA5l",
        "outputId": "7935e11d-cd4a-4e62-afba-ab89e7f94596"
      },
      "source": [
        "data2.shape"
      ],
      "execution_count": null,
      "outputs": [
        {
          "output_type": "execute_result",
          "data": {
            "text/plain": [
              "(338, 4)"
            ]
          },
          "metadata": {},
          "execution_count": 19
        }
      ]
    },
    {
      "cell_type": "code",
      "metadata": {
        "colab": {
          "base_uri": "https://localhost:8080/",
          "height": 295
        },
        "id": "pNqob4sYTCAJ",
        "outputId": "b7dc8348-70f2-46e1-bec8-b918e32529e5"
      },
      "source": [
        "data2.describe()"
      ],
      "execution_count": null,
      "outputs": [
        {
          "output_type": "execute_result",
          "data": {
            "text/html": [
              "<div>\n",
              "<style scoped>\n",
              "    .dataframe tbody tr th:only-of-type {\n",
              "        vertical-align: middle;\n",
              "    }\n",
              "\n",
              "    .dataframe tbody tr th {\n",
              "        vertical-align: top;\n",
              "    }\n",
              "\n",
              "    .dataframe thead th {\n",
              "        text-align: right;\n",
              "    }\n",
              "</style>\n",
              "<table border=\"1\" class=\"dataframe\">\n",
              "  <thead>\n",
              "    <tr style=\"text-align: right;\">\n",
              "      <th></th>\n",
              "      <th>Fiscal Year</th>\n",
              "      <th>Proposals</th>\n",
              "    </tr>\n",
              "  </thead>\n",
              "  <tbody>\n",
              "    <tr>\n",
              "      <th>count</th>\n",
              "      <td>338.000000</td>\n",
              "      <td>338.000000</td>\n",
              "    </tr>\n",
              "    <tr>\n",
              "      <th>mean</th>\n",
              "      <td>2018.156805</td>\n",
              "      <td>6.588757</td>\n",
              "    </tr>\n",
              "    <tr>\n",
              "      <th>std</th>\n",
              "      <td>1.376670</td>\n",
              "      <td>8.317483</td>\n",
              "    </tr>\n",
              "    <tr>\n",
              "      <th>min</th>\n",
              "      <td>2016.000000</td>\n",
              "      <td>1.000000</td>\n",
              "    </tr>\n",
              "    <tr>\n",
              "      <th>25%</th>\n",
              "      <td>2017.000000</td>\n",
              "      <td>1.000000</td>\n",
              "    </tr>\n",
              "    <tr>\n",
              "      <th>50%</th>\n",
              "      <td>2018.000000</td>\n",
              "      <td>4.000000</td>\n",
              "    </tr>\n",
              "    <tr>\n",
              "      <th>75%</th>\n",
              "      <td>2019.000000</td>\n",
              "      <td>8.000000</td>\n",
              "    </tr>\n",
              "    <tr>\n",
              "      <th>max</th>\n",
              "      <td>2020.000000</td>\n",
              "      <td>63.000000</td>\n",
              "    </tr>\n",
              "  </tbody>\n",
              "</table>\n",
              "</div>"
            ],
            "text/plain": [
              "       Fiscal Year    Proposals\n",
              "count    338.000000  338.000000\n",
              "mean    2018.156805    6.588757\n",
              "std        1.376670    8.317483\n",
              "min     2016.000000    1.000000\n",
              "25%     2017.000000    1.000000\n",
              "50%     2018.000000    4.000000\n",
              "75%     2019.000000    8.000000\n",
              "max     2020.000000   63.000000"
            ]
          },
          "metadata": {},
          "execution_count": 20
        }
      ]
    },
    {
      "cell_type": "code",
      "metadata": {
        "colab": {
          "base_uri": "https://localhost:8080/"
        },
        "id": "mg011K2dTC6j",
        "outputId": "72e923cf-effd-43be-b1d5-433c16ed069a"
      },
      "source": [
        "data2.shape"
      ],
      "execution_count": null,
      "outputs": [
        {
          "output_type": "execute_result",
          "data": {
            "text/plain": [
              "(338, 4)"
            ]
          },
          "metadata": {},
          "execution_count": 21
        }
      ]
    },
    {
      "cell_type": "code",
      "metadata": {
        "colab": {
          "base_uri": "https://localhost:8080/",
          "height": 295
        },
        "id": "oKGz3XDBTjKd",
        "outputId": "63672131-cbc2-4570-9ccb-c9ef44f10046"
      },
      "source": [
        "data2.describe()"
      ],
      "execution_count": null,
      "outputs": [
        {
          "output_type": "execute_result",
          "data": {
            "text/html": [
              "<div>\n",
              "<style scoped>\n",
              "    .dataframe tbody tr th:only-of-type {\n",
              "        vertical-align: middle;\n",
              "    }\n",
              "\n",
              "    .dataframe tbody tr th {\n",
              "        vertical-align: top;\n",
              "    }\n",
              "\n",
              "    .dataframe thead th {\n",
              "        text-align: right;\n",
              "    }\n",
              "</style>\n",
              "<table border=\"1\" class=\"dataframe\">\n",
              "  <thead>\n",
              "    <tr style=\"text-align: right;\">\n",
              "      <th></th>\n",
              "      <th>Fiscal Year</th>\n",
              "      <th>Proposals</th>\n",
              "    </tr>\n",
              "  </thead>\n",
              "  <tbody>\n",
              "    <tr>\n",
              "      <th>count</th>\n",
              "      <td>338.000000</td>\n",
              "      <td>338.000000</td>\n",
              "    </tr>\n",
              "    <tr>\n",
              "      <th>mean</th>\n",
              "      <td>2018.156805</td>\n",
              "      <td>6.588757</td>\n",
              "    </tr>\n",
              "    <tr>\n",
              "      <th>std</th>\n",
              "      <td>1.376670</td>\n",
              "      <td>8.317483</td>\n",
              "    </tr>\n",
              "    <tr>\n",
              "      <th>min</th>\n",
              "      <td>2016.000000</td>\n",
              "      <td>1.000000</td>\n",
              "    </tr>\n",
              "    <tr>\n",
              "      <th>25%</th>\n",
              "      <td>2017.000000</td>\n",
              "      <td>1.000000</td>\n",
              "    </tr>\n",
              "    <tr>\n",
              "      <th>50%</th>\n",
              "      <td>2018.000000</td>\n",
              "      <td>4.000000</td>\n",
              "    </tr>\n",
              "    <tr>\n",
              "      <th>75%</th>\n",
              "      <td>2019.000000</td>\n",
              "      <td>8.000000</td>\n",
              "    </tr>\n",
              "    <tr>\n",
              "      <th>max</th>\n",
              "      <td>2020.000000</td>\n",
              "      <td>63.000000</td>\n",
              "    </tr>\n",
              "  </tbody>\n",
              "</table>\n",
              "</div>"
            ],
            "text/plain": [
              "       Fiscal Year    Proposals\n",
              "count    338.000000  338.000000\n",
              "mean    2018.156805    6.588757\n",
              "std        1.376670    8.317483\n",
              "min     2016.000000    1.000000\n",
              "25%     2017.000000    1.000000\n",
              "50%     2018.000000    4.000000\n",
              "75%     2019.000000    8.000000\n",
              "max     2020.000000   63.000000"
            ]
          },
          "metadata": {},
          "execution_count": 22
        }
      ]
    },
    {
      "cell_type": "code",
      "metadata": {
        "id": "syojyvN6Tj8g"
      },
      "source": [
        "from matplotlib import pyplot as plt"
      ],
      "execution_count": null,
      "outputs": []
    },
    {
      "cell_type": "code",
      "metadata": {
        "colab": {
          "base_uri": "https://localhost:8080/",
          "height": 399
        },
        "id": "KdExRA1rTlMe",
        "outputId": "0e42c1dd-239c-4da7-c268-4ca5a5aef69d"
      },
      "source": [
        "plt.boxplot(data2['Proposals'])"
      ],
      "execution_count": null,
      "outputs": [
        {
          "output_type": "execute_result",
          "data": {
            "text/plain": [
              "{'boxes': [<matplotlib.lines.Line2D at 0x7fe50f6b90d0>],\n",
              " 'caps': [<matplotlib.lines.Line2D at 0x7fe50f6bf110>,\n",
              "  <matplotlib.lines.Line2D at 0x7fe50f6bf650>],\n",
              " 'fliers': [<matplotlib.lines.Line2D at 0x7fe50f6c9150>],\n",
              " 'means': [],\n",
              " 'medians': [<matplotlib.lines.Line2D at 0x7fe50f6bfbd0>],\n",
              " 'whiskers': [<matplotlib.lines.Line2D at 0x7fe50f6b9650>,\n",
              "  <matplotlib.lines.Line2D at 0x7fe50f6b9b90>]}"
            ]
          },
          "metadata": {},
          "execution_count": 24
        },
        {
          "output_type": "display_data",
          "data": {
            "image/png": "[encoded data removed]",
            "text/plain": [
              "<Figure size 432x288 with 1 Axes>"
            ]
          },
          "metadata": {
            "needs_background": "light"
          }
        }
      ]
    },
    {
      "cell_type": "markdown",
      "metadata": {
        "id": "vafPjYY3ToFl"
      },
      "source": [
        "ตรวจสอบ missing data2"
      ]
    },
    {
      "cell_type": "code",
      "metadata": {
        "colab": {
          "base_uri": "https://localhost:8080/",
          "height": 416
        },
        "id": "7pj3z36-TmaE",
        "outputId": "7721cef0-a86e-4310-94af-5baf473a1d83"
      },
      "source": [
        "data2.isnull()"
      ],
      "execution_count": null,
      "outputs": [
        {
          "output_type": "execute_result",
          "data": {
            "text/html": [
              "<div>\n",
              "<style scoped>\n",
              "    .dataframe tbody tr th:only-of-type {\n",
              "        vertical-align: middle;\n",
              "    }\n",
              "\n",
              "    .dataframe tbody tr th {\n",
              "        vertical-align: top;\n",
              "    }\n",
              "\n",
              "    .dataframe thead th {\n",
              "        text-align: right;\n",
              "    }\n",
              "</style>\n",
              "<table border=\"1\" class=\"dataframe\">\n",
              "  <thead>\n",
              "    <tr style=\"text-align: right;\">\n",
              "      <th></th>\n",
              "      <th>Fiscal Year</th>\n",
              "      <th>Research Clusters</th>\n",
              "      <th>Beamline</th>\n",
              "      <th>Proposals</th>\n",
              "    </tr>\n",
              "  </thead>\n",
              "  <tbody>\n",
              "    <tr>\n",
              "      <th>0</th>\n",
              "      <td>False</td>\n",
              "      <td>False</td>\n",
              "      <td>False</td>\n",
              "      <td>False</td>\n",
              "    </tr>\n",
              "    <tr>\n",
              "      <th>1</th>\n",
              "      <td>False</td>\n",
              "      <td>False</td>\n",
              "      <td>False</td>\n",
              "      <td>False</td>\n",
              "    </tr>\n",
              "    <tr>\n",
              "      <th>2</th>\n",
              "      <td>False</td>\n",
              "      <td>False</td>\n",
              "      <td>False</td>\n",
              "      <td>False</td>\n",
              "    </tr>\n",
              "    <tr>\n",
              "      <th>3</th>\n",
              "      <td>False</td>\n",
              "      <td>False</td>\n",
              "      <td>False</td>\n",
              "      <td>False</td>\n",
              "    </tr>\n",
              "    <tr>\n",
              "      <th>4</th>\n",
              "      <td>False</td>\n",
              "      <td>False</td>\n",
              "      <td>False</td>\n",
              "      <td>False</td>\n",
              "    </tr>\n",
              "    <tr>\n",
              "      <th>...</th>\n",
              "      <td>...</td>\n",
              "      <td>...</td>\n",
              "      <td>...</td>\n",
              "      <td>...</td>\n",
              "    </tr>\n",
              "    <tr>\n",
              "      <th>333</th>\n",
              "      <td>False</td>\n",
              "      <td>False</td>\n",
              "      <td>False</td>\n",
              "      <td>False</td>\n",
              "    </tr>\n",
              "    <tr>\n",
              "      <th>334</th>\n",
              "      <td>False</td>\n",
              "      <td>False</td>\n",
              "      <td>False</td>\n",
              "      <td>False</td>\n",
              "    </tr>\n",
              "    <tr>\n",
              "      <th>335</th>\n",
              "      <td>False</td>\n",
              "      <td>False</td>\n",
              "      <td>False</td>\n",
              "      <td>False</td>\n",
              "    </tr>\n",
              "    <tr>\n",
              "      <th>336</th>\n",
              "      <td>False</td>\n",
              "      <td>False</td>\n",
              "      <td>False</td>\n",
              "      <td>False</td>\n",
              "    </tr>\n",
              "    <tr>\n",
              "      <th>337</th>\n",
              "      <td>False</td>\n",
              "      <td>False</td>\n",
              "      <td>False</td>\n",
              "      <td>False</td>\n",
              "    </tr>\n",
              "  </tbody>\n",
              "</table>\n",
              "<p>338 rows × 4 columns</p>\n",
              "</div>"
            ],
            "text/plain": [
              "     Fiscal Year   Research Clusters  Beamline  Proposals\n",
              "0           False              False     False      False\n",
              "1           False              False     False      False\n",
              "2           False              False     False      False\n",
              "3           False              False     False      False\n",
              "4           False              False     False      False\n",
              "..            ...                ...       ...        ...\n",
              "333         False              False     False      False\n",
              "334         False              False     False      False\n",
              "335         False              False     False      False\n",
              "336         False              False     False      False\n",
              "337         False              False     False      False\n",
              "\n",
              "[338 rows x 4 columns]"
            ]
          },
          "metadata": {},
          "execution_count": 25
        }
      ]
    },
    {
      "cell_type": "code",
      "metadata": {
        "colab": {
          "base_uri": "https://localhost:8080/"
        },
        "id": "aUFSihn9TpPu",
        "outputId": "07d3844c-4e2f-4e0b-c83b-3b6a2ec4cb19"
      },
      "source": [
        "data2.isnull().any()"
      ],
      "execution_count": null,
      "outputs": [
        {
          "output_type": "execute_result",
          "data": {
            "text/plain": [
              "Fiscal Year          False\n",
              "Research Clusters    False\n",
              "Beamline             False\n",
              "Proposals            False\n",
              "dtype: bool"
            ]
          },
          "metadata": {},
          "execution_count": 26
        }
      ]
    },
    {
      "cell_type": "markdown",
      "metadata": {
        "id": "WqO-LedzTrch"
      },
      "source": [
        "data2 ไม่มี missing เหมือนกัน"
      ]
    },
    {
      "cell_type": "code",
      "metadata": {
        "colab": {
          "base_uri": "https://localhost:8080/",
          "height": 399
        },
        "id": "JDXIvMykTqSn",
        "outputId": "ca1a6059-f42f-44d0-de36-3f0375f6056b"
      },
      "source": [
        "###ลองทำ Hadling Missing Value\n",
        "plt.boxplot(data2['Proposals'].dropna())"
      ],
      "execution_count": null,
      "outputs": [
        {
          "output_type": "execute_result",
          "data": {
            "text/plain": [
              "{'boxes': [<matplotlib.lines.Line2D at 0x7fe50f62dc50>],\n",
              " 'caps': [<matplotlib.lines.Line2D at 0x7fe50f635c90>,\n",
              "  <matplotlib.lines.Line2D at 0x7fe50f63a210>],\n",
              " 'fliers': [<matplotlib.lines.Line2D at 0x7fe50f63acd0>],\n",
              " 'means': [],\n",
              " 'medians': [<matplotlib.lines.Line2D at 0x7fe50f63a790>],\n",
              " 'whiskers': [<matplotlib.lines.Line2D at 0x7fe50f635210>,\n",
              "  <matplotlib.lines.Line2D at 0x7fe50f635750>]}"
            ]
          },
          "metadata": {},
          "execution_count": 27
        },
        {
          "output_type": "display_data",
          "data": {
            "image/png": "[encoded data removed]",
            "text/plain": [
              "<Figure size 432x288 with 1 Axes>"
            ]
          },
          "metadata": {
            "needs_background": "light"
          }
        }
      ]
    },
    {
      "cell_type": "code",
      "metadata": {
        "colab": {
          "base_uri": "https://localhost:8080/",
          "height": 416
        },
        "id": "AidbVMA8TsxT",
        "outputId": "2afa0df8-f10c-43b3-992a-055bd526485c"
      },
      "source": [
        "data2.dropna()"
      ],
      "execution_count": null,
      "outputs": [
        {
          "output_type": "execute_result",
          "data": {
            "text/html": [
              "<div>\n",
              "<style scoped>\n",
              "    .dataframe tbody tr th:only-of-type {\n",
              "        vertical-align: middle;\n",
              "    }\n",
              "\n",
              "    .dataframe tbody tr th {\n",
              "        vertical-align: top;\n",
              "    }\n",
              "\n",
              "    .dataframe thead th {\n",
              "        text-align: right;\n",
              "    }\n",
              "</style>\n",
              "<table border=\"1\" class=\"dataframe\">\n",
              "  <thead>\n",
              "    <tr style=\"text-align: right;\">\n",
              "      <th></th>\n",
              "      <th>Fiscal Year</th>\n",
              "      <th>Research Clusters</th>\n",
              "      <th>Beamline</th>\n",
              "      <th>Proposals</th>\n",
              "    </tr>\n",
              "  </thead>\n",
              "  <tbody>\n",
              "    <tr>\n",
              "      <th>0</th>\n",
              "      <td>2017</td>\n",
              "      <td>Materials Science and Engineering</td>\n",
              "      <td>BL1.1W MXT</td>\n",
              "      <td>17</td>\n",
              "    </tr>\n",
              "    <tr>\n",
              "      <th>1</th>\n",
              "      <td>2017</td>\n",
              "      <td>Chemistry</td>\n",
              "      <td>BL1.1W MXT</td>\n",
              "      <td>3</td>\n",
              "    </tr>\n",
              "    <tr>\n",
              "      <th>2</th>\n",
              "      <td>2017</td>\n",
              "      <td>Biological and Life Science</td>\n",
              "      <td>BL1.1W MXT</td>\n",
              "      <td>1</td>\n",
              "    </tr>\n",
              "    <tr>\n",
              "      <th>3</th>\n",
              "      <td>2017</td>\n",
              "      <td>Earth Science, Gemology and Archeology</td>\n",
              "      <td>BL1.1W MXT</td>\n",
              "      <td>9</td>\n",
              "    </tr>\n",
              "    <tr>\n",
              "      <th>4</th>\n",
              "      <td>2017</td>\n",
              "      <td>Environmental Science</td>\n",
              "      <td>BL1.1W MXT</td>\n",
              "      <td>1</td>\n",
              "    </tr>\n",
              "    <tr>\n",
              "      <th>...</th>\n",
              "      <td>...</td>\n",
              "      <td>...</td>\n",
              "      <td>...</td>\n",
              "      <td>...</td>\n",
              "    </tr>\n",
              "    <tr>\n",
              "      <th>333</th>\n",
              "      <td>2020</td>\n",
              "      <td>Environmental Science</td>\n",
              "      <td>BL8 XAS</td>\n",
              "      <td>3</td>\n",
              "    </tr>\n",
              "    <tr>\n",
              "      <th>334</th>\n",
              "      <td>2020</td>\n",
              "      <td>Polymers</td>\n",
              "      <td>BL8 XAS</td>\n",
              "      <td>4</td>\n",
              "    </tr>\n",
              "    <tr>\n",
              "      <th>335</th>\n",
              "      <td>2020</td>\n",
              "      <td>Surface, Interface and Thin Films</td>\n",
              "      <td>BL8 XAS</td>\n",
              "      <td>6</td>\n",
              "    </tr>\n",
              "    <tr>\n",
              "      <th>336</th>\n",
              "      <td>2020</td>\n",
              "      <td>Food and Agricutural Science</td>\n",
              "      <td>BL8 XAS</td>\n",
              "      <td>3</td>\n",
              "    </tr>\n",
              "    <tr>\n",
              "      <th>337</th>\n",
              "      <td>2020</td>\n",
              "      <td>Biological and Life Science</td>\n",
              "      <td>BL8 XAS</td>\n",
              "      <td>1</td>\n",
              "    </tr>\n",
              "  </tbody>\n",
              "</table>\n",
              "<p>338 rows × 4 columns</p>\n",
              "</div>"
            ],
            "text/plain": [
              "     Fiscal Year   ... Proposals\n",
              "0            2017  ...        17\n",
              "1            2017  ...         3\n",
              "2            2017  ...         1\n",
              "3            2017  ...         9\n",
              "4            2017  ...         1\n",
              "..            ...  ...       ...\n",
              "333          2020  ...         3\n",
              "334          2020  ...         4\n",
              "335          2020  ...         6\n",
              "336          2020  ...         3\n",
              "337          2020  ...         1\n",
              "\n",
              "[338 rows x 4 columns]"
            ]
          },
          "metadata": {},
          "execution_count": 28
        }
      ]
    },
    {
      "cell_type": "code",
      "metadata": {
        "colab": {
          "base_uri": "https://localhost:8080/"
        },
        "id": "OXRVLCFVTt_T",
        "outputId": "62895cdb-1298-43b5-af21-260a196cf434"
      },
      "source": [
        "data2.dropna().shape"
      ],
      "execution_count": null,
      "outputs": [
        {
          "output_type": "execute_result",
          "data": {
            "text/plain": [
              "(338, 4)"
            ]
          },
          "metadata": {},
          "execution_count": 29
        }
      ]
    },
    {
      "cell_type": "markdown",
      "metadata": {
        "id": "C-TfdL3sTxZi"
      },
      "source": [
        "เเละเมื่อไม่ได้เเก้ missing เเล้ว พอทำ dropna() ข้อมูลจึงเท่าเดิมเพราะไม่มีค่า missing"
      ]
    },
    {
      "cell_type": "markdown",
      "metadata": {
        "id": "E0ripfMXTzsH"
      },
      "source": [
        "##data3"
      ]
    },
    {
      "cell_type": "code",
      "metadata": {
        "colab": {
          "base_uri": "https://localhost:8080/",
          "height": 416
        },
        "id": "CsjPpYTGTvA-",
        "outputId": "e7183fab-17a0-410a-cbbc-0fde8cce5c43"
      },
      "source": [
        "data3 =  pd.read_csv(os.path.join(path,'summary_research_publications.csv'))\n",
        "data3"
      ],
      "execution_count": null,
      "outputs": [
        {
          "output_type": "execute_result",
          "data": {
            "text/html": [
              "<div>\n",
              "<style scoped>\n",
              "    .dataframe tbody tr th:only-of-type {\n",
              "        vertical-align: middle;\n",
              "    }\n",
              "\n",
              "    .dataframe tbody tr th {\n",
              "        vertical-align: top;\n",
              "    }\n",
              "\n",
              "    .dataframe thead th {\n",
              "        text-align: right;\n",
              "    }\n",
              "</style>\n",
              "<table border=\"1\" class=\"dataframe\">\n",
              "  <thead>\n",
              "    <tr style=\"text-align: right;\">\n",
              "      <th></th>\n",
              "      <th>Fiscal Year</th>\n",
              "      <th>Research Clusters</th>\n",
              "      <th>Beamline</th>\n",
              "      <th>Publications</th>\n",
              "    </tr>\n",
              "  </thead>\n",
              "  <tbody>\n",
              "    <tr>\n",
              "      <th>0</th>\n",
              "      <td>2017</td>\n",
              "      <td>Materials Science and Engineering</td>\n",
              "      <td>BL1.1W MXT</td>\n",
              "      <td>1</td>\n",
              "    </tr>\n",
              "    <tr>\n",
              "      <th>1</th>\n",
              "      <td>2017</td>\n",
              "      <td>Chemistry</td>\n",
              "      <td>BL1.1W MXT</td>\n",
              "      <td>1</td>\n",
              "    </tr>\n",
              "    <tr>\n",
              "      <th>2</th>\n",
              "      <td>2018</td>\n",
              "      <td>Materials Science and Engineering</td>\n",
              "      <td>BL1.1W MXT</td>\n",
              "      <td>4</td>\n",
              "    </tr>\n",
              "    <tr>\n",
              "      <th>3</th>\n",
              "      <td>2018</td>\n",
              "      <td>Food and Agricutural Science</td>\n",
              "      <td>BL1.1W MXT</td>\n",
              "      <td>1</td>\n",
              "    </tr>\n",
              "    <tr>\n",
              "      <th>4</th>\n",
              "      <td>2019</td>\n",
              "      <td>Materials Science and Engineering</td>\n",
              "      <td>BL1.1W MXT</td>\n",
              "      <td>9</td>\n",
              "    </tr>\n",
              "    <tr>\n",
              "      <th>...</th>\n",
              "      <td>...</td>\n",
              "      <td>...</td>\n",
              "      <td>...</td>\n",
              "      <td>...</td>\n",
              "    </tr>\n",
              "    <tr>\n",
              "      <th>191</th>\n",
              "      <td>2020</td>\n",
              "      <td>Materials Science and Engineering</td>\n",
              "      <td>BL8 XAS</td>\n",
              "      <td>18</td>\n",
              "    </tr>\n",
              "    <tr>\n",
              "      <th>192</th>\n",
              "      <td>2020</td>\n",
              "      <td>Chemistry</td>\n",
              "      <td>BL8 XAS</td>\n",
              "      <td>5</td>\n",
              "    </tr>\n",
              "    <tr>\n",
              "      <th>193</th>\n",
              "      <td>2020</td>\n",
              "      <td>Environmental Science</td>\n",
              "      <td>BL8 XAS</td>\n",
              "      <td>4</td>\n",
              "    </tr>\n",
              "    <tr>\n",
              "      <th>194</th>\n",
              "      <td>2020</td>\n",
              "      <td>Earth Science, Gemology and Archeology</td>\n",
              "      <td>BL8 XAS</td>\n",
              "      <td>6</td>\n",
              "    </tr>\n",
              "    <tr>\n",
              "      <th>195</th>\n",
              "      <td>2020</td>\n",
              "      <td>Surface, Interface and Thin films</td>\n",
              "      <td>BL8 XAS</td>\n",
              "      <td>3</td>\n",
              "    </tr>\n",
              "  </tbody>\n",
              "</table>\n",
              "<p>196 rows × 4 columns</p>\n",
              "</div>"
            ],
            "text/plain": [
              "     Fiscal Year   ... Publications\n",
              "0            2017  ...            1\n",
              "1            2017  ...            1\n",
              "2            2018  ...            4\n",
              "3            2018  ...            1\n",
              "4            2019  ...            9\n",
              "..            ...  ...          ...\n",
              "191          2020  ...           18\n",
              "192          2020  ...            5\n",
              "193          2020  ...            4\n",
              "194          2020  ...            6\n",
              "195          2020  ...            3\n",
              "\n",
              "[196 rows x 4 columns]"
            ]
          },
          "metadata": {},
          "execution_count": 30
        }
      ]
    },
    {
      "cell_type": "code",
      "metadata": {
        "colab": {
          "base_uri": "https://localhost:8080/"
        },
        "id": "Ik6vg4cDTwik",
        "outputId": "59f4bd0c-4bfd-4b8c-9b40-66ed6ae14644"
      },
      "source": [
        "data3.shape"
      ],
      "execution_count": null,
      "outputs": [
        {
          "output_type": "execute_result",
          "data": {
            "text/plain": [
              "(196, 4)"
            ]
          },
          "metadata": {},
          "execution_count": 31
        }
      ]
    },
    {
      "cell_type": "code",
      "metadata": {
        "colab": {
          "base_uri": "https://localhost:8080/",
          "height": 295
        },
        "id": "2pNNU4-tT2VP",
        "outputId": "6bb3c623-9b45-442e-c671-626e9b9ea9f8"
      },
      "source": [
        "data3.describe()"
      ],
      "execution_count": null,
      "outputs": [
        {
          "output_type": "execute_result",
          "data": {
            "text/html": [
              "<div>\n",
              "<style scoped>\n",
              "    .dataframe tbody tr th:only-of-type {\n",
              "        vertical-align: middle;\n",
              "    }\n",
              "\n",
              "    .dataframe tbody tr th {\n",
              "        vertical-align: top;\n",
              "    }\n",
              "\n",
              "    .dataframe thead th {\n",
              "        text-align: right;\n",
              "    }\n",
              "</style>\n",
              "<table border=\"1\" class=\"dataframe\">\n",
              "  <thead>\n",
              "    <tr style=\"text-align: right;\">\n",
              "      <th></th>\n",
              "      <th>Fiscal Year</th>\n",
              "      <th>Publications</th>\n",
              "    </tr>\n",
              "  </thead>\n",
              "  <tbody>\n",
              "    <tr>\n",
              "      <th>count</th>\n",
              "      <td>196.000000</td>\n",
              "      <td>196.000000</td>\n",
              "    </tr>\n",
              "    <tr>\n",
              "      <th>mean</th>\n",
              "      <td>2018.260204</td>\n",
              "      <td>4.494898</td>\n",
              "    </tr>\n",
              "    <tr>\n",
              "      <th>std</th>\n",
              "      <td>1.431746</td>\n",
              "      <td>6.128954</td>\n",
              "    </tr>\n",
              "    <tr>\n",
              "      <th>min</th>\n",
              "      <td>2016.000000</td>\n",
              "      <td>1.000000</td>\n",
              "    </tr>\n",
              "    <tr>\n",
              "      <th>25%</th>\n",
              "      <td>2017.000000</td>\n",
              "      <td>1.000000</td>\n",
              "    </tr>\n",
              "    <tr>\n",
              "      <th>50%</th>\n",
              "      <td>2018.000000</td>\n",
              "      <td>2.000000</td>\n",
              "    </tr>\n",
              "    <tr>\n",
              "      <th>75%</th>\n",
              "      <td>2020.000000</td>\n",
              "      <td>6.000000</td>\n",
              "    </tr>\n",
              "    <tr>\n",
              "      <th>max</th>\n",
              "      <td>2020.000000</td>\n",
              "      <td>37.000000</td>\n",
              "    </tr>\n",
              "  </tbody>\n",
              "</table>\n",
              "</div>"
            ],
            "text/plain": [
              "       Fiscal Year   Publications\n",
              "count    196.000000    196.000000\n",
              "mean    2018.260204      4.494898\n",
              "std        1.431746      6.128954\n",
              "min     2016.000000      1.000000\n",
              "25%     2017.000000      1.000000\n",
              "50%     2018.000000      2.000000\n",
              "75%     2020.000000      6.000000\n",
              "max     2020.000000     37.000000"
            ]
          },
          "metadata": {},
          "execution_count": 32
        }
      ]
    },
    {
      "cell_type": "code",
      "metadata": {
        "id": "2lLshOLmT3XS"
      },
      "source": [
        "from matplotlib import pyplot as plt"
      ],
      "execution_count": null,
      "outputs": []
    },
    {
      "cell_type": "code",
      "metadata": {
        "colab": {
          "base_uri": "https://localhost:8080/",
          "height": 399
        },
        "id": "H5f2suzUT4WR",
        "outputId": "1f249326-8f03-444f-a96b-1935255f74f3"
      },
      "source": [
        "plt.boxplot(data3['Publications'])"
      ],
      "execution_count": null,
      "outputs": [
        {
          "output_type": "execute_result",
          "data": {
            "text/plain": [
              "{'boxes': [<matplotlib.lines.Line2D at 0x7fe50f5af3d0>],\n",
              " 'caps': [<matplotlib.lines.Line2D at 0x7fe50f5b5410>,\n",
              "  <matplotlib.lines.Line2D at 0x7fe50f5b5950>],\n",
              " 'fliers': [<matplotlib.lines.Line2D at 0x7fe50f5bc450>],\n",
              " 'means': [],\n",
              " 'medians': [<matplotlib.lines.Line2D at 0x7fe50f5b5ed0>],\n",
              " 'whiskers': [<matplotlib.lines.Line2D at 0x7fe50f5af950>,\n",
              "  <matplotlib.lines.Line2D at 0x7fe50f5afe90>]}"
            ]
          },
          "metadata": {},
          "execution_count": 34
        },
        {
          "output_type": "display_data",
          "data": {
            "image/png": "[encoded data removed]",
            "text/plain": [
              "<Figure size 432x288 with 1 Axes>"
            ]
          },
          "metadata": {
            "needs_background": "light"
          }
        }
      ]
    },
    {
      "cell_type": "markdown",
      "metadata": {
        "id": "ye9ohak8T9aQ"
      },
      "source": [
        "ตรวจสอบdata3 missing"
      ]
    },
    {
      "cell_type": "code",
      "metadata": {
        "colab": {
          "base_uri": "https://localhost:8080/",
          "height": 416
        },
        "id": "Hhk_rPgHT6fK",
        "outputId": "597bbd56-5b53-4f92-9218-6ebb029c3fbe"
      },
      "source": [
        "data3.isnull()"
      ],
      "execution_count": null,
      "outputs": [
        {
          "output_type": "execute_result",
          "data": {
            "text/html": [
              "<div>\n",
              "<style scoped>\n",
              "    .dataframe tbody tr th:only-of-type {\n",
              "        vertical-align: middle;\n",
              "    }\n",
              "\n",
              "    .dataframe tbody tr th {\n",
              "        vertical-align: top;\n",
              "    }\n",
              "\n",
              "    .dataframe thead th {\n",
              "        text-align: right;\n",
              "    }\n",
              "</style>\n",
              "<table border=\"1\" class=\"dataframe\">\n",
              "  <thead>\n",
              "    <tr style=\"text-align: right;\">\n",
              "      <th></th>\n",
              "      <th>Fiscal Year</th>\n",
              "      <th>Research Clusters</th>\n",
              "      <th>Beamline</th>\n",
              "      <th>Publications</th>\n",
              "    </tr>\n",
              "  </thead>\n",
              "  <tbody>\n",
              "    <tr>\n",
              "      <th>0</th>\n",
              "      <td>False</td>\n",
              "      <td>False</td>\n",
              "      <td>False</td>\n",
              "      <td>False</td>\n",
              "    </tr>\n",
              "    <tr>\n",
              "      <th>1</th>\n",
              "      <td>False</td>\n",
              "      <td>False</td>\n",
              "      <td>False</td>\n",
              "      <td>False</td>\n",
              "    </tr>\n",
              "    <tr>\n",
              "      <th>2</th>\n",
              "      <td>False</td>\n",
              "      <td>False</td>\n",
              "      <td>False</td>\n",
              "      <td>False</td>\n",
              "    </tr>\n",
              "    <tr>\n",
              "      <th>3</th>\n",
              "      <td>False</td>\n",
              "      <td>False</td>\n",
              "      <td>False</td>\n",
              "      <td>False</td>\n",
              "    </tr>\n",
              "    <tr>\n",
              "      <th>4</th>\n",
              "      <td>False</td>\n",
              "      <td>False</td>\n",
              "      <td>False</td>\n",
              "      <td>False</td>\n",
              "    </tr>\n",
              "    <tr>\n",
              "      <th>...</th>\n",
              "      <td>...</td>\n",
              "      <td>...</td>\n",
              "      <td>...</td>\n",
              "      <td>...</td>\n",
              "    </tr>\n",
              "    <tr>\n",
              "      <th>191</th>\n",
              "      <td>False</td>\n",
              "      <td>False</td>\n",
              "      <td>False</td>\n",
              "      <td>False</td>\n",
              "    </tr>\n",
              "    <tr>\n",
              "      <th>192</th>\n",
              "      <td>False</td>\n",
              "      <td>False</td>\n",
              "      <td>False</td>\n",
              "      <td>False</td>\n",
              "    </tr>\n",
              "    <tr>\n",
              "      <th>193</th>\n",
              "      <td>False</td>\n",
              "      <td>False</td>\n",
              "      <td>False</td>\n",
              "      <td>False</td>\n",
              "    </tr>\n",
              "    <tr>\n",
              "      <th>194</th>\n",
              "      <td>False</td>\n",
              "      <td>False</td>\n",
              "      <td>False</td>\n",
              "      <td>False</td>\n",
              "    </tr>\n",
              "    <tr>\n",
              "      <th>195</th>\n",
              "      <td>False</td>\n",
              "      <td>False</td>\n",
              "      <td>False</td>\n",
              "      <td>False</td>\n",
              "    </tr>\n",
              "  </tbody>\n",
              "</table>\n",
              "<p>196 rows × 4 columns</p>\n",
              "</div>"
            ],
            "text/plain": [
              "     Fiscal Year   Research Clusters  Beamline  Publications\n",
              "0           False              False     False         False\n",
              "1           False              False     False         False\n",
              "2           False              False     False         False\n",
              "3           False              False     False         False\n",
              "4           False              False     False         False\n",
              "..            ...                ...       ...           ...\n",
              "191         False              False     False         False\n",
              "192         False              False     False         False\n",
              "193         False              False     False         False\n",
              "194         False              False     False         False\n",
              "195         False              False     False         False\n",
              "\n",
              "[196 rows x 4 columns]"
            ]
          },
          "metadata": {},
          "execution_count": 35
        }
      ]
    },
    {
      "cell_type": "code",
      "metadata": {
        "colab": {
          "base_uri": "https://localhost:8080/"
        },
        "id": "rF-ybSfyT8KZ",
        "outputId": "b9e2216a-36f3-4769-fb3b-f807cd4c5d22"
      },
      "source": [
        "data3.isnull().any()"
      ],
      "execution_count": null,
      "outputs": [
        {
          "output_type": "execute_result",
          "data": {
            "text/plain": [
              "Fiscal Year          False\n",
              "Research Clusters    False\n",
              "Beamline             False\n",
              "Publications         False\n",
              "dtype: bool"
            ]
          },
          "metadata": {},
          "execution_count": 36
        }
      ]
    },
    {
      "cell_type": "markdown",
      "metadata": {
        "id": "fz61-kMhUBA_"
      },
      "source": [
        "data3ไม่มี missing "
      ]
    },
    {
      "cell_type": "code",
      "metadata": {
        "colab": {
          "base_uri": "https://localhost:8080/",
          "height": 399
        },
        "id": "2obE8pZuUADp",
        "outputId": "ab91f0f0-fabb-4796-d9cc-da5a18676b58"
      },
      "source": [
        "###ทำ Hadling Missing Value\n",
        "plt.boxplot(data3['Publications'].dropna())"
      ],
      "execution_count": null,
      "outputs": [
        {
          "output_type": "execute_result",
          "data": {
            "text/plain": [
              "{'boxes': [<matplotlib.lines.Line2D at 0x7fe50f5a41d0>],\n",
              " 'caps': [<matplotlib.lines.Line2D at 0x7fe50f52b210>,\n",
              "  <matplotlib.lines.Line2D at 0x7fe50f52b750>],\n",
              " 'fliers': [<matplotlib.lines.Line2D at 0x7fe50f533250>],\n",
              " 'means': [],\n",
              " 'medians': [<matplotlib.lines.Line2D at 0x7fe50f52bcd0>],\n",
              " 'whiskers': [<matplotlib.lines.Line2D at 0x7fe50f5a4750>,\n",
              "  <matplotlib.lines.Line2D at 0x7fe50f5a4c90>]}"
            ]
          },
          "metadata": {},
          "execution_count": 37
        },
        {
          "output_type": "display_data",
          "data": {
            "image/png": "[encoded data removed]",
            "text/plain": [
              "<Figure size 432x288 with 1 Axes>"
            ]
          },
          "metadata": {
            "needs_background": "light"
          }
        }
      ]
    },
    {
      "cell_type": "code",
      "metadata": {
        "colab": {
          "base_uri": "https://localhost:8080/",
          "height": 416
        },
        "id": "0E5Xf4TMUDZ3",
        "outputId": "118022c5-f496-464b-9108-a6318d86f6dd"
      },
      "source": [
        "data3.dropna()"
      ],
      "execution_count": null,
      "outputs": [
        {
          "output_type": "execute_result",
          "data": {
            "text/html": [
              "<div>\n",
              "<style scoped>\n",
              "    .dataframe tbody tr th:only-of-type {\n",
              "        vertical-align: middle;\n",
              "    }\n",
              "\n",
              "    .dataframe tbody tr th {\n",
              "        vertical-align: top;\n",
              "    }\n",
              "\n",
              "    .dataframe thead th {\n",
              "        text-align: right;\n",
              "    }\n",
              "</style>\n",
              "<table border=\"1\" class=\"dataframe\">\n",
              "  <thead>\n",
              "    <tr style=\"text-align: right;\">\n",
              "      <th></th>\n",
              "      <th>Fiscal Year</th>\n",
              "      <th>Research Clusters</th>\n",
              "      <th>Beamline</th>\n",
              "      <th>Publications</th>\n",
              "    </tr>\n",
              "  </thead>\n",
              "  <tbody>\n",
              "    <tr>\n",
              "      <th>0</th>\n",
              "      <td>2017</td>\n",
              "      <td>Materials Science and Engineering</td>\n",
              "      <td>BL1.1W MXT</td>\n",
              "      <td>1</td>\n",
              "    </tr>\n",
              "    <tr>\n",
              "      <th>1</th>\n",
              "      <td>2017</td>\n",
              "      <td>Chemistry</td>\n",
              "      <td>BL1.1W MXT</td>\n",
              "      <td>1</td>\n",
              "    </tr>\n",
              "    <tr>\n",
              "      <th>2</th>\n",
              "      <td>2018</td>\n",
              "      <td>Materials Science and Engineering</td>\n",
              "      <td>BL1.1W MXT</td>\n",
              "      <td>4</td>\n",
              "    </tr>\n",
              "    <tr>\n",
              "      <th>3</th>\n",
              "      <td>2018</td>\n",
              "      <td>Food and Agricutural Science</td>\n",
              "      <td>BL1.1W MXT</td>\n",
              "      <td>1</td>\n",
              "    </tr>\n",
              "    <tr>\n",
              "      <th>4</th>\n",
              "      <td>2019</td>\n",
              "      <td>Materials Science and Engineering</td>\n",
              "      <td>BL1.1W MXT</td>\n",
              "      <td>9</td>\n",
              "    </tr>\n",
              "    <tr>\n",
              "      <th>...</th>\n",
              "      <td>...</td>\n",
              "      <td>...</td>\n",
              "      <td>...</td>\n",
              "      <td>...</td>\n",
              "    </tr>\n",
              "    <tr>\n",
              "      <th>191</th>\n",
              "      <td>2020</td>\n",
              "      <td>Materials Science and Engineering</td>\n",
              "      <td>BL8 XAS</td>\n",
              "      <td>18</td>\n",
              "    </tr>\n",
              "    <tr>\n",
              "      <th>192</th>\n",
              "      <td>2020</td>\n",
              "      <td>Chemistry</td>\n",
              "      <td>BL8 XAS</td>\n",
              "      <td>5</td>\n",
              "    </tr>\n",
              "    <tr>\n",
              "      <th>193</th>\n",
              "      <td>2020</td>\n",
              "      <td>Environmental Science</td>\n",
              "      <td>BL8 XAS</td>\n",
              "      <td>4</td>\n",
              "    </tr>\n",
              "    <tr>\n",
              "      <th>194</th>\n",
              "      <td>2020</td>\n",
              "      <td>Earth Science, Gemology and Archeology</td>\n",
              "      <td>BL8 XAS</td>\n",
              "      <td>6</td>\n",
              "    </tr>\n",
              "    <tr>\n",
              "      <th>195</th>\n",
              "      <td>2020</td>\n",
              "      <td>Surface, Interface and Thin films</td>\n",
              "      <td>BL8 XAS</td>\n",
              "      <td>3</td>\n",
              "    </tr>\n",
              "  </tbody>\n",
              "</table>\n",
              "<p>196 rows × 4 columns</p>\n",
              "</div>"
            ],
            "text/plain": [
              "     Fiscal Year   ... Publications\n",
              "0            2017  ...            1\n",
              "1            2017  ...            1\n",
              "2            2018  ...            4\n",
              "3            2018  ...            1\n",
              "4            2019  ...            9\n",
              "..            ...  ...          ...\n",
              "191          2020  ...           18\n",
              "192          2020  ...            5\n",
              "193          2020  ...            4\n",
              "194          2020  ...            6\n",
              "195          2020  ...            3\n",
              "\n",
              "[196 rows x 4 columns]"
            ]
          },
          "metadata": {},
          "execution_count": 38
        }
      ]
    },
    {
      "cell_type": "code",
      "metadata": {
        "colab": {
          "base_uri": "https://localhost:8080/"
        },
        "id": "_NP93_WeUE6R",
        "outputId": "abf7f10e-0dc7-4286-ca98-e53393baa358"
      },
      "source": [
        "data3.dropna().shape"
      ],
      "execution_count": null,
      "outputs": [
        {
          "output_type": "execute_result",
          "data": {
            "text/plain": [
              "(196, 4)"
            ]
          },
          "metadata": {},
          "execution_count": 39
        }
      ]
    },
    {
      "cell_type": "markdown",
      "metadata": {
        "id": "DzYly-gzUVtx"
      },
      "source": [
        "เเละเมื่อไม่ได้เเก้ missing เเล้ว พอทำ dropna() ข้อมูลจึงเท่าเดิมเพราะไม่มีค่า missing"
      ]
    },
    {
      "cell_type": "markdown",
      "metadata": {
        "id": "BCws54IKUXYz"
      },
      "source": [
        "## รวมตาราง"
      ]
    },
    {
      "cell_type": "code",
      "metadata": {
        "colab": {
          "base_uri": "https://localhost:8080/",
          "height": 34
        },
        "id": "onhyHx13UGkw",
        "outputId": "609f3086-8856-452e-b675-eed162759f22"
      },
      "source": [
        "os.path.join(path,'workshop-participants.csv')"
      ],
      "execution_count": null,
      "outputs": [
        {
          "output_type": "execute_result",
          "data": {
            "application/vnd.google.colaboratory.intrinsic+json": {
              "type": "string"
            },
            "text/plain": [
              "'/content/drive/My Drive/PROJECT/workshop-participants.csv'"
            ]
          },
          "metadata": {},
          "execution_count": 40
        }
      ]
    },
    {
      "cell_type": "code",
      "metadata": {
        "id": "x9k5etnSUYtG"
      },
      "source": [
        "workshop = pd.read_csv(os.path.join(path,'workshop-participants.csv'))\n",
        "summary_beamtime = pd.read_csv(os.path.join(path,'summary_beamtime-proposals-research-clusters.csv'))\n",
        "summary_research = pd.read_csv(os.path.join(path,'summary_research_publications.csv'))\n"
      ],
      "execution_count": null,
      "outputs": []
    },
    {
      "cell_type": "code",
      "metadata": {
        "colab": {
          "base_uri": "https://localhost:8080/"
        },
        "id": "Sl62_s6YZXyK",
        "outputId": "4c5b1803-a001-4e10-ec4f-6b7d62049723"
      },
      "source": [
        "print(workshop.shape)\n",
        "workshop\n",
        "workshop.columns"
      ],
      "execution_count": null,
      "outputs": [
        {
          "output_type": "stream",
          "text": [
            "(82, 4)\n"
          ],
          "name": "stdout"
        },
        {
          "output_type": "execute_result",
          "data": {
            "text/plain": [
              "Index(['Fiscal Year ', 'Workshop Name', 'National paticipants', 'paticipants'], dtype='object')"
            ]
          },
          "metadata": {},
          "execution_count": 56
        }
      ]
    },
    {
      "cell_type": "code",
      "metadata": {
        "colab": {
          "base_uri": "https://localhost:8080/"
        },
        "id": "8GrGQtqlZb1O",
        "outputId": "30264916-7304-4d07-8f68-50fb70f8b727"
      },
      "source": [
        "print(summary_beamtime.shape)\n",
        "summary_beamtime\n",
        "summary_beamtime.columns"
      ],
      "execution_count": null,
      "outputs": [
        {
          "output_type": "stream",
          "text": [
            "(338, 4)\n"
          ],
          "name": "stdout"
        },
        {
          "output_type": "execute_result",
          "data": {
            "text/plain": [
              "Index(['Fiscal Year ', 'Research Clusters', 'Beamline', 'Proposals'], dtype='object')"
            ]
          },
          "metadata": {},
          "execution_count": 54
        }
      ]
    },
    {
      "cell_type": "markdown",
      "metadata": {
        "id": "fiFOfOMVZd-v"
      },
      "source": [
        "### รวมตาง workshop กับ summary_beamtime"
      ]
    },
    {
      "cell_type": "code",
      "metadata": {
        "id": "fOlLfsJIZgST"
      },
      "source": [
        "merged_table = workshop.merge(summary_beamtime,how='left',left_on='Workshop Name',right_on='Beamline')\n"
      ],
      "execution_count": null,
      "outputs": []
    },
    {
      "cell_type": "markdown",
      "metadata": {
        "id": "3E_urEh2ZYyb"
      },
      "source": [
        "cpddddddddddddddddddddddddddddddddddddddddddddddddddddddddddddddddddddd"
      ]
    },
    {
      "cell_type": "code",
      "metadata": {
        "colab": {
          "base_uri": "https://localhost:8080/",
          "height": 416
        },
        "id": "mJ911G1iUaPE",
        "outputId": "bdc7c4cd-5548-4caf-ab95-7095eb9f3470"
      },
      "source": [
        "data4"
      ],
      "execution_count": null,
      "outputs": [
        {
          "output_type": "execute_result",
          "data": {
            "text/html": [
              "<div>\n",
              "<style scoped>\n",
              "    .dataframe tbody tr th:only-of-type {\n",
              "        vertical-align: middle;\n",
              "    }\n",
              "\n",
              "    .dataframe tbody tr th {\n",
              "        vertical-align: top;\n",
              "    }\n",
              "\n",
              "    .dataframe thead th {\n",
              "        text-align: right;\n",
              "    }\n",
              "</style>\n",
              "<table border=\"1\" class=\"dataframe\">\n",
              "  <thead>\n",
              "    <tr style=\"text-align: right;\">\n",
              "      <th></th>\n",
              "      <th>Fiscal Year</th>\n",
              "      <th>Workshop Name</th>\n",
              "      <th>National paticipants</th>\n",
              "      <th>paticipants</th>\n",
              "    </tr>\n",
              "  </thead>\n",
              "  <tbody>\n",
              "    <tr>\n",
              "      <th>0</th>\n",
              "      <td>2010</td>\n",
              "      <td>ASEAN Workshops on Synchrotron Techniques</td>\n",
              "      <td>Thai</td>\n",
              "      <td>128</td>\n",
              "    </tr>\n",
              "    <tr>\n",
              "      <th>1</th>\n",
              "      <td>2010</td>\n",
              "      <td>ASEAN Workshops on Synchrotron Techniques</td>\n",
              "      <td>ASEN</td>\n",
              "      <td>7</td>\n",
              "    </tr>\n",
              "    <tr>\n",
              "      <th>2</th>\n",
              "      <td>2011</td>\n",
              "      <td>ASEAN Workshops on Synchrotron Techniques</td>\n",
              "      <td>Thai</td>\n",
              "      <td>148</td>\n",
              "    </tr>\n",
              "    <tr>\n",
              "      <th>3</th>\n",
              "      <td>2011</td>\n",
              "      <td>ASEAN Workshops on Synchrotron Techniques</td>\n",
              "      <td>ASEN</td>\n",
              "      <td>8</td>\n",
              "    </tr>\n",
              "    <tr>\n",
              "      <th>4</th>\n",
              "      <td>2011</td>\n",
              "      <td>ASEAN Workshops on Synchrotron Techniques</td>\n",
              "      <td>International</td>\n",
              "      <td>6</td>\n",
              "    </tr>\n",
              "    <tr>\n",
              "      <th>...</th>\n",
              "      <td>...</td>\n",
              "      <td>...</td>\n",
              "      <td>...</td>\n",
              "      <td>...</td>\n",
              "    </tr>\n",
              "    <tr>\n",
              "      <th>77</th>\n",
              "      <td>2015</td>\n",
              "      <td>Annual User Meeting (AUM)</td>\n",
              "      <td>Thai</td>\n",
              "      <td>123</td>\n",
              "    </tr>\n",
              "    <tr>\n",
              "      <th>78</th>\n",
              "      <td>2016</td>\n",
              "      <td>Annual User Meeting (AUM)</td>\n",
              "      <td>Thai</td>\n",
              "      <td>187</td>\n",
              "    </tr>\n",
              "    <tr>\n",
              "      <th>79</th>\n",
              "      <td>2017</td>\n",
              "      <td>Annual User Meeting (AUM)</td>\n",
              "      <td>Thai</td>\n",
              "      <td>87</td>\n",
              "    </tr>\n",
              "    <tr>\n",
              "      <th>80</th>\n",
              "      <td>2018</td>\n",
              "      <td>Annual User Meeting (AUM)</td>\n",
              "      <td>Thai</td>\n",
              "      <td>138</td>\n",
              "    </tr>\n",
              "    <tr>\n",
              "      <th>81</th>\n",
              "      <td>2019</td>\n",
              "      <td>Annual User Meeting (AUM)</td>\n",
              "      <td>Thai</td>\n",
              "      <td>130</td>\n",
              "    </tr>\n",
              "  </tbody>\n",
              "</table>\n",
              "<p>82 rows × 4 columns</p>\n",
              "</div>"
            ],
            "text/plain": [
              "    Fiscal Year   ... paticipants\n",
              "0           2010  ...         128\n",
              "1           2010  ...           7\n",
              "2           2011  ...         148\n",
              "3           2011  ...           8\n",
              "4           2011  ...           6\n",
              "..           ...  ...         ...\n",
              "77          2015  ...         123\n",
              "78          2016  ...         187\n",
              "79          2017  ...          87\n",
              "80          2018  ...         138\n",
              "81          2019  ...         130\n",
              "\n",
              "[82 rows x 4 columns]"
            ]
          },
          "metadata": {},
          "execution_count": 60
        }
      ]
    },
    {
      "cell_type": "code",
      "metadata": {
        "colab": {
          "base_uri": "https://localhost:8080/"
        },
        "id": "Ym82rK9LwPDe",
        "outputId": "0d459f7f-e651-43fd-cc5b-3eb7cf2d9504"
      },
      "source": [
        "data4.columns"
      ],
      "execution_count": null,
      "outputs": [
        {
          "output_type": "execute_result",
          "data": {
            "text/plain": [
              "Index(['Fiscal Year ', 'Workshop Name', 'National paticipants', 'paticipants'], dtype='object')"
            ]
          },
          "metadata": {},
          "execution_count": 43
        }
      ]
    },
    {
      "cell_type": "code",
      "metadata": {
        "colab": {
          "base_uri": "https://localhost:8080/",
          "height": 416
        },
        "id": "ZIB7_XOktBBB",
        "outputId": "b5daf220-9553-4fb0-a5bd-cbc0e940b9ff"
      },
      "source": [
        "data4.rename(columns={'Fisical Year ':'Fiscal Year '}, inplace=True) #มีการพิมพ์ข้อมูลผิดจึงทำการเปลี่่ยนชื่อ columns Fisacal year\n",
        "data4"
      ],
      "execution_count": null,
      "outputs": [
        {
          "output_type": "execute_result",
          "data": {
            "text/html": [
              "<div>\n",
              "<style scoped>\n",
              "    .dataframe tbody tr th:only-of-type {\n",
              "        vertical-align: middle;\n",
              "    }\n",
              "\n",
              "    .dataframe tbody tr th {\n",
              "        vertical-align: top;\n",
              "    }\n",
              "\n",
              "    .dataframe thead th {\n",
              "        text-align: right;\n",
              "    }\n",
              "</style>\n",
              "<table border=\"1\" class=\"dataframe\">\n",
              "  <thead>\n",
              "    <tr style=\"text-align: right;\">\n",
              "      <th></th>\n",
              "      <th>Fiscal Year</th>\n",
              "      <th>Workshop Name</th>\n",
              "      <th>National paticipants</th>\n",
              "      <th>paticipants</th>\n",
              "    </tr>\n",
              "  </thead>\n",
              "  <tbody>\n",
              "    <tr>\n",
              "      <th>0</th>\n",
              "      <td>2010</td>\n",
              "      <td>ASEAN Workshops on Synchrotron Techniques</td>\n",
              "      <td>Thai</td>\n",
              "      <td>128</td>\n",
              "    </tr>\n",
              "    <tr>\n",
              "      <th>1</th>\n",
              "      <td>2010</td>\n",
              "      <td>ASEAN Workshops on Synchrotron Techniques</td>\n",
              "      <td>ASEN</td>\n",
              "      <td>7</td>\n",
              "    </tr>\n",
              "    <tr>\n",
              "      <th>2</th>\n",
              "      <td>2011</td>\n",
              "      <td>ASEAN Workshops on Synchrotron Techniques</td>\n",
              "      <td>Thai</td>\n",
              "      <td>148</td>\n",
              "    </tr>\n",
              "    <tr>\n",
              "      <th>3</th>\n",
              "      <td>2011</td>\n",
              "      <td>ASEAN Workshops on Synchrotron Techniques</td>\n",
              "      <td>ASEN</td>\n",
              "      <td>8</td>\n",
              "    </tr>\n",
              "    <tr>\n",
              "      <th>4</th>\n",
              "      <td>2011</td>\n",
              "      <td>ASEAN Workshops on Synchrotron Techniques</td>\n",
              "      <td>International</td>\n",
              "      <td>6</td>\n",
              "    </tr>\n",
              "    <tr>\n",
              "      <th>...</th>\n",
              "      <td>...</td>\n",
              "      <td>...</td>\n",
              "      <td>...</td>\n",
              "      <td>...</td>\n",
              "    </tr>\n",
              "    <tr>\n",
              "      <th>77</th>\n",
              "      <td>2015</td>\n",
              "      <td>Annual User Meeting (AUM)</td>\n",
              "      <td>Thai</td>\n",
              "      <td>123</td>\n",
              "    </tr>\n",
              "    <tr>\n",
              "      <th>78</th>\n",
              "      <td>2016</td>\n",
              "      <td>Annual User Meeting (AUM)</td>\n",
              "      <td>Thai</td>\n",
              "      <td>187</td>\n",
              "    </tr>\n",
              "    <tr>\n",
              "      <th>79</th>\n",
              "      <td>2017</td>\n",
              "      <td>Annual User Meeting (AUM)</td>\n",
              "      <td>Thai</td>\n",
              "      <td>87</td>\n",
              "    </tr>\n",
              "    <tr>\n",
              "      <th>80</th>\n",
              "      <td>2018</td>\n",
              "      <td>Annual User Meeting (AUM)</td>\n",
              "      <td>Thai</td>\n",
              "      <td>138</td>\n",
              "    </tr>\n",
              "    <tr>\n",
              "      <th>81</th>\n",
              "      <td>2019</td>\n",
              "      <td>Annual User Meeting (AUM)</td>\n",
              "      <td>Thai</td>\n",
              "      <td>130</td>\n",
              "    </tr>\n",
              "  </tbody>\n",
              "</table>\n",
              "<p>82 rows × 4 columns</p>\n",
              "</div>"
            ],
            "text/plain": [
              "    Fiscal Year   ... paticipants\n",
              "0           2010  ...         128\n",
              "1           2010  ...           7\n",
              "2           2011  ...         148\n",
              "3           2011  ...           8\n",
              "4           2011  ...           6\n",
              "..           ...  ...         ...\n",
              "77          2015  ...         123\n",
              "78          2016  ...         187\n",
              "79          2017  ...          87\n",
              "80          2018  ...         138\n",
              "81          2019  ...         130\n",
              "\n",
              "[82 rows x 4 columns]"
            ]
          },
          "metadata": {},
          "execution_count": 44
        }
      ]
    },
    {
      "cell_type": "code",
      "metadata": {
        "colab": {
          "base_uri": "https://localhost:8080/"
        },
        "id": "jf6wyZLIUbHx",
        "outputId": "4a18c3b2-235c-4d2d-8ea1-f08974c719b1"
      },
      "source": [
        " data4.shape"
      ],
      "execution_count": null,
      "outputs": [
        {
          "output_type": "execute_result",
          "data": {
            "text/plain": [
              "(82, 4)"
            ]
          },
          "metadata": {},
          "execution_count": 45
        }
      ]
    },
    {
      "cell_type": "code",
      "metadata": {
        "colab": {
          "base_uri": "https://localhost:8080/",
          "height": 219
        },
        "id": "Mri74g0xUb-r",
        "outputId": "8690838b-ad01-4250-b4db-5f54aa8746a0"
      },
      "source": [
        "print(data5.shape)\n",
        "data5.head()"
      ],
      "execution_count": null,
      "outputs": [
        {
          "output_type": "stream",
          "text": [
            "(338, 4)\n"
          ],
          "name": "stdout"
        },
        {
          "output_type": "execute_result",
          "data": {
            "text/html": [
              "<div>\n",
              "<style scoped>\n",
              "    .dataframe tbody tr th:only-of-type {\n",
              "        vertical-align: middle;\n",
              "    }\n",
              "\n",
              "    .dataframe tbody tr th {\n",
              "        vertical-align: top;\n",
              "    }\n",
              "\n",
              "    .dataframe thead th {\n",
              "        text-align: right;\n",
              "    }\n",
              "</style>\n",
              "<table border=\"1\" class=\"dataframe\">\n",
              "  <thead>\n",
              "    <tr style=\"text-align: right;\">\n",
              "      <th></th>\n",
              "      <th>Fiscal Year</th>\n",
              "      <th>Research Clusters</th>\n",
              "      <th>Beamline</th>\n",
              "      <th>Proposals</th>\n",
              "    </tr>\n",
              "  </thead>\n",
              "  <tbody>\n",
              "    <tr>\n",
              "      <th>0</th>\n",
              "      <td>2017</td>\n",
              "      <td>Materials Science and Engineering</td>\n",
              "      <td>BL1.1W MXT</td>\n",
              "      <td>17</td>\n",
              "    </tr>\n",
              "    <tr>\n",
              "      <th>1</th>\n",
              "      <td>2017</td>\n",
              "      <td>Chemistry</td>\n",
              "      <td>BL1.1W MXT</td>\n",
              "      <td>3</td>\n",
              "    </tr>\n",
              "    <tr>\n",
              "      <th>2</th>\n",
              "      <td>2017</td>\n",
              "      <td>Biological and Life Science</td>\n",
              "      <td>BL1.1W MXT</td>\n",
              "      <td>1</td>\n",
              "    </tr>\n",
              "    <tr>\n",
              "      <th>3</th>\n",
              "      <td>2017</td>\n",
              "      <td>Earth Science, Gemology and Archeology</td>\n",
              "      <td>BL1.1W MXT</td>\n",
              "      <td>9</td>\n",
              "    </tr>\n",
              "    <tr>\n",
              "      <th>4</th>\n",
              "      <td>2017</td>\n",
              "      <td>Environmental Science</td>\n",
              "      <td>BL1.1W MXT</td>\n",
              "      <td>1</td>\n",
              "    </tr>\n",
              "  </tbody>\n",
              "</table>\n",
              "</div>"
            ],
            "text/plain": [
              "   Fiscal Year                        Research Clusters    Beamline  Proposals\n",
              "0          2017       Materials Science and Engineering  BL1.1W MXT         17\n",
              "1          2017                               Chemistry  BL1.1W MXT          3\n",
              "2          2017             Biological and Life Science  BL1.1W MXT          1\n",
              "3          2017  Earth Science, Gemology and Archeology  BL1.1W MXT          9\n",
              "4          2017                   Environmental Science  BL1.1W MXT          1"
            ]
          },
          "metadata": {},
          "execution_count": 46
        }
      ]
    },
    {
      "cell_type": "code",
      "metadata": {
        "colab": {
          "base_uri": "https://localhost:8080/",
          "height": 219
        },
        "id": "v2ckAMcQUcz1",
        "outputId": "967275d9-bda3-43d7-c0cd-24fce86bc34a"
      },
      "source": [
        "print(data6.shape)\n",
        "data6.head()"
      ],
      "execution_count": null,
      "outputs": [
        {
          "output_type": "stream",
          "text": [
            "(196, 4)\n"
          ],
          "name": "stdout"
        },
        {
          "output_type": "execute_result",
          "data": {
            "text/html": [
              "<div>\n",
              "<style scoped>\n",
              "    .dataframe tbody tr th:only-of-type {\n",
              "        vertical-align: middle;\n",
              "    }\n",
              "\n",
              "    .dataframe tbody tr th {\n",
              "        vertical-align: top;\n",
              "    }\n",
              "\n",
              "    .dataframe thead th {\n",
              "        text-align: right;\n",
              "    }\n",
              "</style>\n",
              "<table border=\"1\" class=\"dataframe\">\n",
              "  <thead>\n",
              "    <tr style=\"text-align: right;\">\n",
              "      <th></th>\n",
              "      <th>Fiscal Year</th>\n",
              "      <th>Research Clusters</th>\n",
              "      <th>Beamline</th>\n",
              "      <th>Publications</th>\n",
              "    </tr>\n",
              "  </thead>\n",
              "  <tbody>\n",
              "    <tr>\n",
              "      <th>0</th>\n",
              "      <td>2017</td>\n",
              "      <td>Materials Science and Engineering</td>\n",
              "      <td>BL1.1W MXT</td>\n",
              "      <td>1</td>\n",
              "    </tr>\n",
              "    <tr>\n",
              "      <th>1</th>\n",
              "      <td>2017</td>\n",
              "      <td>Chemistry</td>\n",
              "      <td>BL1.1W MXT</td>\n",
              "      <td>1</td>\n",
              "    </tr>\n",
              "    <tr>\n",
              "      <th>2</th>\n",
              "      <td>2018</td>\n",
              "      <td>Materials Science and Engineering</td>\n",
              "      <td>BL1.1W MXT</td>\n",
              "      <td>4</td>\n",
              "    </tr>\n",
              "    <tr>\n",
              "      <th>3</th>\n",
              "      <td>2018</td>\n",
              "      <td>Food and Agricutural Science</td>\n",
              "      <td>BL1.1W MXT</td>\n",
              "      <td>1</td>\n",
              "    </tr>\n",
              "    <tr>\n",
              "      <th>4</th>\n",
              "      <td>2019</td>\n",
              "      <td>Materials Science and Engineering</td>\n",
              "      <td>BL1.1W MXT</td>\n",
              "      <td>9</td>\n",
              "    </tr>\n",
              "  </tbody>\n",
              "</table>\n",
              "</div>"
            ],
            "text/plain": [
              "   Fiscal Year                   Research Clusters    Beamline  Publications\n",
              "0          2017  Materials Science and Engineering  BL1.1W MXT             1\n",
              "1          2017                          Chemistry  BL1.1W MXT             1\n",
              "2          2018  Materials Science and Engineering  BL1.1W MXT             4\n",
              "3          2018       Food and Agricutural Science  BL1.1W MXT             1\n",
              "4          2019  Materials Science and Engineering  BL1.1W MXT             9"
            ]
          },
          "metadata": {},
          "execution_count": 47
        }
      ]
    },
    {
      "cell_type": "code",
      "metadata": {
        "id": "yN0eb2AJfPwH"
      },
      "source": [
        ""
      ],
      "execution_count": null,
      "outputs": []
    },
    {
      "cell_type": "markdown",
      "metadata": {
        "id": "w2ub0EADUew6"
      },
      "source": [
        "อยากได้ข้อมูลที่เหมือนกันล่าสุด"
      ]
    },
    {
      "cell_type": "code",
      "metadata": {
        "colab": {
          "base_uri": "https://localhost:8080/",
          "height": 664
        },
        "id": "LHDhbWmEUdgt",
        "outputId": "b20414bc-fbd8-4ab9-ea60-3b3d3c0a028e"
      },
      "source": [
        "data_x = data4.iloc[-20:,:]\n",
        "data_x"
      ],
      "execution_count": null,
      "outputs": [
        {
          "output_type": "execute_result",
          "data": {
            "text/html": [
              "<div>\n",
              "<style scoped>\n",
              "    .dataframe tbody tr th:only-of-type {\n",
              "        vertical-align: middle;\n",
              "    }\n",
              "\n",
              "    .dataframe tbody tr th {\n",
              "        vertical-align: top;\n",
              "    }\n",
              "\n",
              "    .dataframe thead th {\n",
              "        text-align: right;\n",
              "    }\n",
              "</style>\n",
              "<table border=\"1\" class=\"dataframe\">\n",
              "  <thead>\n",
              "    <tr style=\"text-align: right;\">\n",
              "      <th></th>\n",
              "      <th>Fiscal Year</th>\n",
              "      <th>Workshop Name</th>\n",
              "      <th>National paticipants</th>\n",
              "      <th>paticipants</th>\n",
              "    </tr>\n",
              "  </thead>\n",
              "  <tbody>\n",
              "    <tr>\n",
              "      <th>62</th>\n",
              "      <td>2019</td>\n",
              "      <td>ASEAN Synchrotron Science Camp</td>\n",
              "      <td>ASEN</td>\n",
              "      <td>42</td>\n",
              "    </tr>\n",
              "    <tr>\n",
              "      <th>63</th>\n",
              "      <td>2011</td>\n",
              "      <td>Synchrotron Science Camp for Teachers</td>\n",
              "      <td>Thai</td>\n",
              "      <td>34</td>\n",
              "    </tr>\n",
              "    <tr>\n",
              "      <th>64</th>\n",
              "      <td>2012</td>\n",
              "      <td>Synchrotron Science Camp for Teachers</td>\n",
              "      <td>Thai</td>\n",
              "      <td>17</td>\n",
              "    </tr>\n",
              "    <tr>\n",
              "      <th>65</th>\n",
              "      <td>2014</td>\n",
              "      <td>Synchrotron Science Camp for Teachers</td>\n",
              "      <td>Thai</td>\n",
              "      <td>39</td>\n",
              "    </tr>\n",
              "    <tr>\n",
              "      <th>66</th>\n",
              "      <td>2015</td>\n",
              "      <td>Synchrotron Science Camp for Teachers</td>\n",
              "      <td>Thai</td>\n",
              "      <td>38</td>\n",
              "    </tr>\n",
              "    <tr>\n",
              "      <th>67</th>\n",
              "      <td>2016</td>\n",
              "      <td>Synchrotron Science Camp for Teachers</td>\n",
              "      <td>Thai</td>\n",
              "      <td>35</td>\n",
              "    </tr>\n",
              "    <tr>\n",
              "      <th>68</th>\n",
              "      <td>2017</td>\n",
              "      <td>Synchrotron Science Camp for Teachers</td>\n",
              "      <td>Thai</td>\n",
              "      <td>50</td>\n",
              "    </tr>\n",
              "    <tr>\n",
              "      <th>69</th>\n",
              "      <td>2018</td>\n",
              "      <td>Synchrotron Science Camp for Teachers</td>\n",
              "      <td>Thai</td>\n",
              "      <td>49</td>\n",
              "    </tr>\n",
              "    <tr>\n",
              "      <th>70</th>\n",
              "      <td>2019</td>\n",
              "      <td>Synchrotron Science Camp for Teachers</td>\n",
              "      <td>Thai</td>\n",
              "      <td>39</td>\n",
              "    </tr>\n",
              "    <tr>\n",
              "      <th>71</th>\n",
              "      <td>2007</td>\n",
              "      <td>Annual User Meeting (AUM)</td>\n",
              "      <td>Thai</td>\n",
              "      <td>83</td>\n",
              "    </tr>\n",
              "    <tr>\n",
              "      <th>72</th>\n",
              "      <td>2008</td>\n",
              "      <td>Annual User Meeting (AUM)</td>\n",
              "      <td>Thai</td>\n",
              "      <td>144</td>\n",
              "    </tr>\n",
              "    <tr>\n",
              "      <th>73</th>\n",
              "      <td>2010</td>\n",
              "      <td>Annual User Meeting (AUM)</td>\n",
              "      <td>Thai</td>\n",
              "      <td>96</td>\n",
              "    </tr>\n",
              "    <tr>\n",
              "      <th>74</th>\n",
              "      <td>2011</td>\n",
              "      <td>Annual User Meeting (AUM)</td>\n",
              "      <td>Thai</td>\n",
              "      <td>72</td>\n",
              "    </tr>\n",
              "    <tr>\n",
              "      <th>75</th>\n",
              "      <td>2012</td>\n",
              "      <td>Annual User Meeting (AUM)</td>\n",
              "      <td>Thai</td>\n",
              "      <td>112</td>\n",
              "    </tr>\n",
              "    <tr>\n",
              "      <th>76</th>\n",
              "      <td>2013</td>\n",
              "      <td>Annual User Meeting (AUM)</td>\n",
              "      <td>Thai</td>\n",
              "      <td>54</td>\n",
              "    </tr>\n",
              "    <tr>\n",
              "      <th>77</th>\n",
              "      <td>2015</td>\n",
              "      <td>Annual User Meeting (AUM)</td>\n",
              "      <td>Thai</td>\n",
              "      <td>123</td>\n",
              "    </tr>\n",
              "    <tr>\n",
              "      <th>78</th>\n",
              "      <td>2016</td>\n",
              "      <td>Annual User Meeting (AUM)</td>\n",
              "      <td>Thai</td>\n",
              "      <td>187</td>\n",
              "    </tr>\n",
              "    <tr>\n",
              "      <th>79</th>\n",
              "      <td>2017</td>\n",
              "      <td>Annual User Meeting (AUM)</td>\n",
              "      <td>Thai</td>\n",
              "      <td>87</td>\n",
              "    </tr>\n",
              "    <tr>\n",
              "      <th>80</th>\n",
              "      <td>2018</td>\n",
              "      <td>Annual User Meeting (AUM)</td>\n",
              "      <td>Thai</td>\n",
              "      <td>138</td>\n",
              "    </tr>\n",
              "    <tr>\n",
              "      <th>81</th>\n",
              "      <td>2019</td>\n",
              "      <td>Annual User Meeting (AUM)</td>\n",
              "      <td>Thai</td>\n",
              "      <td>130</td>\n",
              "    </tr>\n",
              "  </tbody>\n",
              "</table>\n",
              "</div>"
            ],
            "text/plain": [
              "    Fiscal Year   ... paticipants\n",
              "62          2019  ...          42\n",
              "63          2011  ...          34\n",
              "64          2012  ...          17\n",
              "65          2014  ...          39\n",
              "66          2015  ...          38\n",
              "67          2016  ...          35\n",
              "68          2017  ...          50\n",
              "69          2018  ...          49\n",
              "70          2019  ...          39\n",
              "71          2007  ...          83\n",
              "72          2008  ...         144\n",
              "73          2010  ...          96\n",
              "74          2011  ...          72\n",
              "75          2012  ...         112\n",
              "76          2013  ...          54\n",
              "77          2015  ...         123\n",
              "78          2016  ...         187\n",
              "79          2017  ...          87\n",
              "80          2018  ...         138\n",
              "81          2019  ...         130\n",
              "\n",
              "[20 rows x 4 columns]"
            ]
          },
          "metadata": {},
          "execution_count": 48
        }
      ]
    },
    {
      "cell_type": "markdown",
      "metadata": {
        "id": "5IUmykEuUjZg"
      },
      "source": [
        "1.   รวม 3 ตารางเข้าด้วยกัน\n",
        "2.   เลือกมาเฉพาะบาง column จากอีกตารางหนึ่งมาแปะไว้"
      ]
    },
    {
      "cell_type": "code",
      "metadata": {
        "colab": {
          "base_uri": "https://localhost:8080/",
          "height": 416
        },
        "id": "CdVbSvprZOhT",
        "outputId": "e2384984-742d-4333-d181-f5a5433f4695"
      },
      "source": [
        "data7=pd.concat([data4, data5, data6])\n",
        "data7"
      ],
      "execution_count": null,
      "outputs": [
        {
          "output_type": "execute_result",
          "data": {
            "text/html": [
              "<div>\n",
              "<style scoped>\n",
              "    .dataframe tbody tr th:only-of-type {\n",
              "        vertical-align: middle;\n",
              "    }\n",
              "\n",
              "    .dataframe tbody tr th {\n",
              "        vertical-align: top;\n",
              "    }\n",
              "\n",
              "    .dataframe thead th {\n",
              "        text-align: right;\n",
              "    }\n",
              "</style>\n",
              "<table border=\"1\" class=\"dataframe\">\n",
              "  <thead>\n",
              "    <tr style=\"text-align: right;\">\n",
              "      <th></th>\n",
              "      <th>Fiscal Year</th>\n",
              "      <th>Workshop Name</th>\n",
              "      <th>National paticipants</th>\n",
              "      <th>paticipants</th>\n",
              "      <th>Research Clusters</th>\n",
              "      <th>Beamline</th>\n",
              "      <th>Proposals</th>\n",
              "      <th>Publications</th>\n",
              "    </tr>\n",
              "  </thead>\n",
              "  <tbody>\n",
              "    <tr>\n",
              "      <th>0</th>\n",
              "      <td>2010</td>\n",
              "      <td>ASEAN Workshops on Synchrotron Techniques</td>\n",
              "      <td>Thai</td>\n",
              "      <td>128.0</td>\n",
              "      <td>NaN</td>\n",
              "      <td>NaN</td>\n",
              "      <td>NaN</td>\n",
              "      <td>NaN</td>\n",
              "    </tr>\n",
              "    <tr>\n",
              "      <th>1</th>\n",
              "      <td>2010</td>\n",
              "      <td>ASEAN Workshops on Synchrotron Techniques</td>\n",
              "      <td>ASEN</td>\n",
              "      <td>7.0</td>\n",
              "      <td>NaN</td>\n",
              "      <td>NaN</td>\n",
              "      <td>NaN</td>\n",
              "      <td>NaN</td>\n",
              "    </tr>\n",
              "    <tr>\n",
              "      <th>2</th>\n",
              "      <td>2011</td>\n",
              "      <td>ASEAN Workshops on Synchrotron Techniques</td>\n",
              "      <td>Thai</td>\n",
              "      <td>148.0</td>\n",
              "      <td>NaN</td>\n",
              "      <td>NaN</td>\n",
              "      <td>NaN</td>\n",
              "      <td>NaN</td>\n",
              "    </tr>\n",
              "    <tr>\n",
              "      <th>3</th>\n",
              "      <td>2011</td>\n",
              "      <td>ASEAN Workshops on Synchrotron Techniques</td>\n",
              "      <td>ASEN</td>\n",
              "      <td>8.0</td>\n",
              "      <td>NaN</td>\n",
              "      <td>NaN</td>\n",
              "      <td>NaN</td>\n",
              "      <td>NaN</td>\n",
              "    </tr>\n",
              "    <tr>\n",
              "      <th>4</th>\n",
              "      <td>2011</td>\n",
              "      <td>ASEAN Workshops on Synchrotron Techniques</td>\n",
              "      <td>International</td>\n",
              "      <td>6.0</td>\n",
              "      <td>NaN</td>\n",
              "      <td>NaN</td>\n",
              "      <td>NaN</td>\n",
              "      <td>NaN</td>\n",
              "    </tr>\n",
              "    <tr>\n",
              "      <th>...</th>\n",
              "      <td>...</td>\n",
              "      <td>...</td>\n",
              "      <td>...</td>\n",
              "      <td>...</td>\n",
              "      <td>...</td>\n",
              "      <td>...</td>\n",
              "      <td>...</td>\n",
              "      <td>...</td>\n",
              "    </tr>\n",
              "    <tr>\n",
              "      <th>191</th>\n",
              "      <td>2020</td>\n",
              "      <td>NaN</td>\n",
              "      <td>NaN</td>\n",
              "      <td>NaN</td>\n",
              "      <td>Materials Science and Engineering</td>\n",
              "      <td>BL8 XAS</td>\n",
              "      <td>NaN</td>\n",
              "      <td>18.0</td>\n",
              "    </tr>\n",
              "    <tr>\n",
              "      <th>192</th>\n",
              "      <td>2020</td>\n",
              "      <td>NaN</td>\n",
              "      <td>NaN</td>\n",
              "      <td>NaN</td>\n",
              "      <td>Chemistry</td>\n",
              "      <td>BL8 XAS</td>\n",
              "      <td>NaN</td>\n",
              "      <td>5.0</td>\n",
              "    </tr>\n",
              "    <tr>\n",
              "      <th>193</th>\n",
              "      <td>2020</td>\n",
              "      <td>NaN</td>\n",
              "      <td>NaN</td>\n",
              "      <td>NaN</td>\n",
              "      <td>Environmental Science</td>\n",
              "      <td>BL8 XAS</td>\n",
              "      <td>NaN</td>\n",
              "      <td>4.0</td>\n",
              "    </tr>\n",
              "    <tr>\n",
              "      <th>194</th>\n",
              "      <td>2020</td>\n",
              "      <td>NaN</td>\n",
              "      <td>NaN</td>\n",
              "      <td>NaN</td>\n",
              "      <td>Earth Science, Gemology and Archeology</td>\n",
              "      <td>BL8 XAS</td>\n",
              "      <td>NaN</td>\n",
              "      <td>6.0</td>\n",
              "    </tr>\n",
              "    <tr>\n",
              "      <th>195</th>\n",
              "      <td>2020</td>\n",
              "      <td>NaN</td>\n",
              "      <td>NaN</td>\n",
              "      <td>NaN</td>\n",
              "      <td>Surface, Interface and Thin films</td>\n",
              "      <td>BL8 XAS</td>\n",
              "      <td>NaN</td>\n",
              "      <td>3.0</td>\n",
              "    </tr>\n",
              "  </tbody>\n",
              "</table>\n",
              "<p>616 rows × 8 columns</p>\n",
              "</div>"
            ],
            "text/plain": [
              "     Fiscal Year   ... Publications\n",
              "0            2010  ...          NaN\n",
              "1            2010  ...          NaN\n",
              "2            2011  ...          NaN\n",
              "3            2011  ...          NaN\n",
              "4            2011  ...          NaN\n",
              "..            ...  ...          ...\n",
              "191          2020  ...         18.0\n",
              "192          2020  ...          5.0\n",
              "193          2020  ...          4.0\n",
              "194          2020  ...          6.0\n",
              "195          2020  ...          3.0\n",
              "\n",
              "[616 rows x 8 columns]"
            ]
          },
          "metadata": {},
          "execution_count": 49
        }
      ]
    },
    {
      "cell_type": "code",
      "metadata": {
        "colab": {
          "base_uri": "https://localhost:8080/",
          "height": 416
        },
        "id": "HF9qrwmPUhM0",
        "outputId": "2d4de6e6-ade9-42df-a2e3-913213f4c0f9"
      },
      "source": [
        "data7.groupby('Fiscal Year ') ##รวมเรียบร้อย\n",
        "data7"
      ],
      "execution_count": null,
      "outputs": [
        {
          "output_type": "execute_result",
          "data": {
            "text/html": [
              "<div>\n",
              "<style scoped>\n",
              "    .dataframe tbody tr th:only-of-type {\n",
              "        vertical-align: middle;\n",
              "    }\n",
              "\n",
              "    .dataframe tbody tr th {\n",
              "        vertical-align: top;\n",
              "    }\n",
              "\n",
              "    .dataframe thead th {\n",
              "        text-align: right;\n",
              "    }\n",
              "</style>\n",
              "<table border=\"1\" class=\"dataframe\">\n",
              "  <thead>\n",
              "    <tr style=\"text-align: right;\">\n",
              "      <th></th>\n",
              "      <th>Fiscal Year</th>\n",
              "      <th>Workshop Name</th>\n",
              "      <th>National paticipants</th>\n",
              "      <th>paticipants</th>\n",
              "      <th>Research Clusters</th>\n",
              "      <th>Beamline</th>\n",
              "      <th>Proposals</th>\n",
              "      <th>Publications</th>\n",
              "    </tr>\n",
              "  </thead>\n",
              "  <tbody>\n",
              "    <tr>\n",
              "      <th>0</th>\n",
              "      <td>2010</td>\n",
              "      <td>ASEAN Workshops on Synchrotron Techniques</td>\n",
              "      <td>Thai</td>\n",
              "      <td>128.0</td>\n",
              "      <td>NaN</td>\n",
              "      <td>NaN</td>\n",
              "      <td>NaN</td>\n",
              "      <td>NaN</td>\n",
              "    </tr>\n",
              "    <tr>\n",
              "      <th>1</th>\n",
              "      <td>2010</td>\n",
              "      <td>ASEAN Workshops on Synchrotron Techniques</td>\n",
              "      <td>ASEN</td>\n",
              "      <td>7.0</td>\n",
              "      <td>NaN</td>\n",
              "      <td>NaN</td>\n",
              "      <td>NaN</td>\n",
              "      <td>NaN</td>\n",
              "    </tr>\n",
              "    <tr>\n",
              "      <th>2</th>\n",
              "      <td>2011</td>\n",
              "      <td>ASEAN Workshops on Synchrotron Techniques</td>\n",
              "      <td>Thai</td>\n",
              "      <td>148.0</td>\n",
              "      <td>NaN</td>\n",
              "      <td>NaN</td>\n",
              "      <td>NaN</td>\n",
              "      <td>NaN</td>\n",
              "    </tr>\n",
              "    <tr>\n",
              "      <th>3</th>\n",
              "      <td>2011</td>\n",
              "      <td>ASEAN Workshops on Synchrotron Techniques</td>\n",
              "      <td>ASEN</td>\n",
              "      <td>8.0</td>\n",
              "      <td>NaN</td>\n",
              "      <td>NaN</td>\n",
              "      <td>NaN</td>\n",
              "      <td>NaN</td>\n",
              "    </tr>\n",
              "    <tr>\n",
              "      <th>4</th>\n",
              "      <td>2011</td>\n",
              "      <td>ASEAN Workshops on Synchrotron Techniques</td>\n",
              "      <td>International</td>\n",
              "      <td>6.0</td>\n",
              "      <td>NaN</td>\n",
              "      <td>NaN</td>\n",
              "      <td>NaN</td>\n",
              "      <td>NaN</td>\n",
              "    </tr>\n",
              "    <tr>\n",
              "      <th>...</th>\n",
              "      <td>...</td>\n",
              "      <td>...</td>\n",
              "      <td>...</td>\n",
              "      <td>...</td>\n",
              "      <td>...</td>\n",
              "      <td>...</td>\n",
              "      <td>...</td>\n",
              "      <td>...</td>\n",
              "    </tr>\n",
              "    <tr>\n",
              "      <th>191</th>\n",
              "      <td>2020</td>\n",
              "      <td>NaN</td>\n",
              "      <td>NaN</td>\n",
              "      <td>NaN</td>\n",
              "      <td>Materials Science and Engineering</td>\n",
              "      <td>BL8 XAS</td>\n",
              "      <td>NaN</td>\n",
              "      <td>18.0</td>\n",
              "    </tr>\n",
              "    <tr>\n",
              "      <th>192</th>\n",
              "      <td>2020</td>\n",
              "      <td>NaN</td>\n",
              "      <td>NaN</td>\n",
              "      <td>NaN</td>\n",
              "      <td>Chemistry</td>\n",
              "      <td>BL8 XAS</td>\n",
              "      <td>NaN</td>\n",
              "      <td>5.0</td>\n",
              "    </tr>\n",
              "    <tr>\n",
              "      <th>193</th>\n",
              "      <td>2020</td>\n",
              "      <td>NaN</td>\n",
              "      <td>NaN</td>\n",
              "      <td>NaN</td>\n",
              "      <td>Environmental Science</td>\n",
              "      <td>BL8 XAS</td>\n",
              "      <td>NaN</td>\n",
              "      <td>4.0</td>\n",
              "    </tr>\n",
              "    <tr>\n",
              "      <th>194</th>\n",
              "      <td>2020</td>\n",
              "      <td>NaN</td>\n",
              "      <td>NaN</td>\n",
              "      <td>NaN</td>\n",
              "      <td>Earth Science, Gemology and Archeology</td>\n",
              "      <td>BL8 XAS</td>\n",
              "      <td>NaN</td>\n",
              "      <td>6.0</td>\n",
              "    </tr>\n",
              "    <tr>\n",
              "      <th>195</th>\n",
              "      <td>2020</td>\n",
              "      <td>NaN</td>\n",
              "      <td>NaN</td>\n",
              "      <td>NaN</td>\n",
              "      <td>Surface, Interface and Thin films</td>\n",
              "      <td>BL8 XAS</td>\n",
              "      <td>NaN</td>\n",
              "      <td>3.0</td>\n",
              "    </tr>\n",
              "  </tbody>\n",
              "</table>\n",
              "<p>616 rows × 8 columns</p>\n",
              "</div>"
            ],
            "text/plain": [
              "     Fiscal Year   ... Publications\n",
              "0            2010  ...          NaN\n",
              "1            2010  ...          NaN\n",
              "2            2011  ...          NaN\n",
              "3            2011  ...          NaN\n",
              "4            2011  ...          NaN\n",
              "..            ...  ...          ...\n",
              "191          2020  ...         18.0\n",
              "192          2020  ...          5.0\n",
              "193          2020  ...          4.0\n",
              "194          2020  ...          6.0\n",
              "195          2020  ...          3.0\n",
              "\n",
              "[616 rows x 8 columns]"
            ]
          },
          "metadata": {},
          "execution_count": 50
        }
      ]
    },
    {
      "cell_type": "code",
      "metadata": {
        "colab": {
          "base_uri": "https://localhost:8080/",
          "height": 416
        },
        "id": "gLnTASnqcWTW",
        "outputId": "90481dd8-3a52-4737-c402-285c0e1c95a3"
      },
      "source": [
        "data"
      ],
      "execution_count": null,
      "outputs": [
        {
          "output_type": "execute_result",
          "data": {
            "text/html": [
              "<div>\n",
              "<style scoped>\n",
              "    .dataframe tbody tr th:only-of-type {\n",
              "        vertical-align: middle;\n",
              "    }\n",
              "\n",
              "    .dataframe tbody tr th {\n",
              "        vertical-align: top;\n",
              "    }\n",
              "\n",
              "    .dataframe thead th {\n",
              "        text-align: right;\n",
              "    }\n",
              "</style>\n",
              "<table border=\"1\" class=\"dataframe\">\n",
              "  <thead>\n",
              "    <tr style=\"text-align: right;\">\n",
              "      <th></th>\n",
              "      <th>Fiscal Year</th>\n",
              "      <th>Workshop Name</th>\n",
              "      <th>National paticipants</th>\n",
              "      <th>paticipants</th>\n",
              "    </tr>\n",
              "  </thead>\n",
              "  <tbody>\n",
              "    <tr>\n",
              "      <th>0</th>\n",
              "      <td>2010</td>\n",
              "      <td>ASEAN Workshops on Synchrotron Techniques</td>\n",
              "      <td>Thai</td>\n",
              "      <td>128</td>\n",
              "    </tr>\n",
              "    <tr>\n",
              "      <th>1</th>\n",
              "      <td>2010</td>\n",
              "      <td>ASEAN Workshops on Synchrotron Techniques</td>\n",
              "      <td>ASEN</td>\n",
              "      <td>7</td>\n",
              "    </tr>\n",
              "    <tr>\n",
              "      <th>2</th>\n",
              "      <td>2011</td>\n",
              "      <td>ASEAN Workshops on Synchrotron Techniques</td>\n",
              "      <td>Thai</td>\n",
              "      <td>148</td>\n",
              "    </tr>\n",
              "    <tr>\n",
              "      <th>3</th>\n",
              "      <td>2011</td>\n",
              "      <td>ASEAN Workshops on Synchrotron Techniques</td>\n",
              "      <td>ASEN</td>\n",
              "      <td>8</td>\n",
              "    </tr>\n",
              "    <tr>\n",
              "      <th>4</th>\n",
              "      <td>2011</td>\n",
              "      <td>ASEAN Workshops on Synchrotron Techniques</td>\n",
              "      <td>International</td>\n",
              "      <td>6</td>\n",
              "    </tr>\n",
              "    <tr>\n",
              "      <th>...</th>\n",
              "      <td>...</td>\n",
              "      <td>...</td>\n",
              "      <td>...</td>\n",
              "      <td>...</td>\n",
              "    </tr>\n",
              "    <tr>\n",
              "      <th>77</th>\n",
              "      <td>2015</td>\n",
              "      <td>Annual User Meeting (AUM)</td>\n",
              "      <td>Thai</td>\n",
              "      <td>123</td>\n",
              "    </tr>\n",
              "    <tr>\n",
              "      <th>78</th>\n",
              "      <td>2016</td>\n",
              "      <td>Annual User Meeting (AUM)</td>\n",
              "      <td>Thai</td>\n",
              "      <td>187</td>\n",
              "    </tr>\n",
              "    <tr>\n",
              "      <th>79</th>\n",
              "      <td>2017</td>\n",
              "      <td>Annual User Meeting (AUM)</td>\n",
              "      <td>Thai</td>\n",
              "      <td>87</td>\n",
              "    </tr>\n",
              "    <tr>\n",
              "      <th>80</th>\n",
              "      <td>2018</td>\n",
              "      <td>Annual User Meeting (AUM)</td>\n",
              "      <td>Thai</td>\n",
              "      <td>138</td>\n",
              "    </tr>\n",
              "    <tr>\n",
              "      <th>81</th>\n",
              "      <td>2019</td>\n",
              "      <td>Annual User Meeting (AUM)</td>\n",
              "      <td>Thai</td>\n",
              "      <td>130</td>\n",
              "    </tr>\n",
              "  </tbody>\n",
              "</table>\n",
              "<p>82 rows × 4 columns</p>\n",
              "</div>"
            ],
            "text/plain": [
              "    Fiscal Year   ... paticipants\n",
              "0           2010  ...         128\n",
              "1           2010  ...           7\n",
              "2           2011  ...         148\n",
              "3           2011  ...           8\n",
              "4           2011  ...           6\n",
              "..           ...  ...         ...\n",
              "77          2015  ...         123\n",
              "78          2016  ...         187\n",
              "79          2017  ...          87\n",
              "80          2018  ...         138\n",
              "81          2019  ...         130\n",
              "\n",
              "[82 rows x 4 columns]"
            ]
          },
          "metadata": {},
          "execution_count": 51
        }
      ]
    },
    {
      "cell_type": "code",
      "metadata": {
        "id": "mZAfZ6zGzrq5",
        "colab": {
          "base_uri": "https://localhost:8080/",
          "height": 303
        },
        "outputId": "ff51d3ee-c677-4ff7-9bc3-2091cbb7d644"
      },
      "source": [
        "merged_table = workshop.merge(summary_beamtime,how='left',left_on='Fiscal Year ',right_on='Beamline')"
      ],
      "execution_count": null,
      "outputs": [
        {
          "output_type": "error",
          "ename": "ValueError",
          "evalue": "ignored",
          "traceback": [
            "\u001b[0;31m---------------------------------------------------------------------------\u001b[0m",
            "\u001b[0;31mValueError\u001b[0m                                Traceback (most recent call last)",
            "\u001b[0;32m<ipython-input-62-59acd24c7578>\u001b[0m in \u001b[0;36m<module>\u001b[0;34m()\u001b[0m\n\u001b[0;32m----> 1\u001b[0;31m \u001b[0mmerged_table\u001b[0m \u001b[0;34m=\u001b[0m \u001b[0mworkshop\u001b[0m\u001b[0;34m.\u001b[0m\u001b[0mmerge\u001b[0m\u001b[0;34m(\u001b[0m\u001b[0msummary_beamtime\u001b[0m\u001b[0;34m,\u001b[0m\u001b[0mhow\u001b[0m\u001b[0;34m=\u001b[0m\u001b[0;34m'left'\u001b[0m\u001b[0;34m,\u001b[0m\u001b[0mleft_on\u001b[0m\u001b[0;34m=\u001b[0m\u001b[0;34m'Fiscal Year '\u001b[0m\u001b[0;34m,\u001b[0m\u001b[0mright_on\u001b[0m\u001b[0;34m=\u001b[0m\u001b[0;34m'Beamline'\u001b[0m\u001b[0;34m)\u001b[0m\u001b[0;34m\u001b[0m\u001b[0;34m\u001b[0m\u001b[0m\n\u001b[0m",
            "\u001b[0;32m/usr/local/lib/python3.7/dist-packages/pandas/core/frame.py\u001b[0m in \u001b[0;36mmerge\u001b[0;34m(self, right, how, on, left_on, right_on, left_index, right_index, sort, suffixes, copy, indicator, validate)\u001b[0m\n\u001b[1;32m   7961\u001b[0m             \u001b[0mcopy\u001b[0m\u001b[0;34m=\u001b[0m\u001b[0mcopy\u001b[0m\u001b[0;34m,\u001b[0m\u001b[0;34m\u001b[0m\u001b[0;34m\u001b[0m\u001b[0m\n\u001b[1;32m   7962\u001b[0m             \u001b[0mindicator\u001b[0m\u001b[0;34m=\u001b[0m\u001b[0mindicator\u001b[0m\u001b[0;34m,\u001b[0m\u001b[0;34m\u001b[0m\u001b[0;34m\u001b[0m\u001b[0m\n\u001b[0;32m-> 7963\u001b[0;31m             \u001b[0mvalidate\u001b[0m\u001b[0;34m=\u001b[0m\u001b[0mvalidate\u001b[0m\u001b[0;34m,\u001b[0m\u001b[0;34m\u001b[0m\u001b[0;34m\u001b[0m\u001b[0m\n\u001b[0m\u001b[1;32m   7964\u001b[0m         )\n\u001b[1;32m   7965\u001b[0m \u001b[0;34m\u001b[0m\u001b[0m\n",
            "\u001b[0;32m/usr/local/lib/python3.7/dist-packages/pandas/core/reshape/merge.py\u001b[0m in \u001b[0;36mmerge\u001b[0;34m(left, right, how, on, left_on, right_on, left_index, right_index, sort, suffixes, copy, indicator, validate)\u001b[0m\n\u001b[1;32m     85\u001b[0m         \u001b[0mcopy\u001b[0m\u001b[0;34m=\u001b[0m\u001b[0mcopy\u001b[0m\u001b[0;34m,\u001b[0m\u001b[0;34m\u001b[0m\u001b[0;34m\u001b[0m\u001b[0m\n\u001b[1;32m     86\u001b[0m         \u001b[0mindicator\u001b[0m\u001b[0;34m=\u001b[0m\u001b[0mindicator\u001b[0m\u001b[0;34m,\u001b[0m\u001b[0;34m\u001b[0m\u001b[0;34m\u001b[0m\u001b[0m\n\u001b[0;32m---> 87\u001b[0;31m         \u001b[0mvalidate\u001b[0m\u001b[0;34m=\u001b[0m\u001b[0mvalidate\u001b[0m\u001b[0;34m,\u001b[0m\u001b[0;34m\u001b[0m\u001b[0;34m\u001b[0m\u001b[0m\n\u001b[0m\u001b[1;32m     88\u001b[0m     )\n\u001b[1;32m     89\u001b[0m     \u001b[0;32mreturn\u001b[0m \u001b[0mop\u001b[0m\u001b[0;34m.\u001b[0m\u001b[0mget_result\u001b[0m\u001b[0;34m(\u001b[0m\u001b[0;34m)\u001b[0m\u001b[0;34m\u001b[0m\u001b[0;34m\u001b[0m\u001b[0m\n",
            "\u001b[0;32m/usr/local/lib/python3.7/dist-packages/pandas/core/reshape/merge.py\u001b[0m in \u001b[0;36m__init__\u001b[0;34m(self, left, right, how, on, left_on, right_on, axis, left_index, right_index, sort, suffixes, copy, indicator, validate)\u001b[0m\n\u001b[1;32m    654\u001b[0m         \u001b[0;31m# validate the merge keys dtypes. We may need to coerce\u001b[0m\u001b[0;34m\u001b[0m\u001b[0;34m\u001b[0m\u001b[0;34m\u001b[0m\u001b[0m\n\u001b[1;32m    655\u001b[0m         \u001b[0;31m# to avoid incompatible dtypes\u001b[0m\u001b[0;34m\u001b[0m\u001b[0;34m\u001b[0m\u001b[0;34m\u001b[0m\u001b[0m\n\u001b[0;32m--> 656\u001b[0;31m         \u001b[0mself\u001b[0m\u001b[0;34m.\u001b[0m\u001b[0m_maybe_coerce_merge_keys\u001b[0m\u001b[0;34m(\u001b[0m\u001b[0;34m)\u001b[0m\u001b[0;34m\u001b[0m\u001b[0;34m\u001b[0m\u001b[0m\n\u001b[0m\u001b[1;32m    657\u001b[0m \u001b[0;34m\u001b[0m\u001b[0m\n\u001b[1;32m    658\u001b[0m         \u001b[0;31m# If argument passed to validate,\u001b[0m\u001b[0;34m\u001b[0m\u001b[0;34m\u001b[0m\u001b[0;34m\u001b[0m\u001b[0m\n",
            "\u001b[0;32m/usr/local/lib/python3.7/dist-packages/pandas/core/reshape/merge.py\u001b[0m in \u001b[0;36m_maybe_coerce_merge_keys\u001b[0;34m(self)\u001b[0m\n\u001b[1;32m   1163\u001b[0m                     \u001b[0minferred_right\u001b[0m \u001b[0;32min\u001b[0m \u001b[0mstring_types\u001b[0m \u001b[0;32mand\u001b[0m \u001b[0minferred_left\u001b[0m \u001b[0;32mnot\u001b[0m \u001b[0;32min\u001b[0m \u001b[0mstring_types\u001b[0m\u001b[0;34m\u001b[0m\u001b[0;34m\u001b[0m\u001b[0m\n\u001b[1;32m   1164\u001b[0m                 ):\n\u001b[0;32m-> 1165\u001b[0;31m                     \u001b[0;32mraise\u001b[0m \u001b[0mValueError\u001b[0m\u001b[0;34m(\u001b[0m\u001b[0mmsg\u001b[0m\u001b[0;34m)\u001b[0m\u001b[0;34m\u001b[0m\u001b[0;34m\u001b[0m\u001b[0m\n\u001b[0m\u001b[1;32m   1166\u001b[0m \u001b[0;34m\u001b[0m\u001b[0m\n\u001b[1;32m   1167\u001b[0m             \u001b[0;31m# datetimelikes must match exactly\u001b[0m\u001b[0;34m\u001b[0m\u001b[0;34m\u001b[0m\u001b[0;34m\u001b[0m\u001b[0m\n",
            "\u001b[0;31mValueError\u001b[0m: You are trying to merge on int64 and object columns. If you wish to proceed you should use pd.concat"
          ]
        }
      ]
    },
    {
      "cell_type": "code",
      "metadata": {
        "id": "It-Em0b0Yx4v"
      },
      "source": [
        ""
      ],
      "execution_count": null,
      "outputs": []
    }
  ]
}