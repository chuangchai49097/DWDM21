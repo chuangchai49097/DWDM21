{
  "nbformat": 4,
  "nbformat_minor": 0,
  "metadata": {
    "colab": {
      "name": "Data101.ipynb",
      "provenance": [],
      "collapsed_sections": [
        "dkLvJgQPm1tM",
        "CG5t57qm-44-",
        "PwN6WXXMCZrQ",
        "XCpu8X7xEnd4",
        "0KVyMipBLUQ2"
      ],
      "authorship_tag": "ABX9TyPxZaonEIRlAXKENFzY1QKB",
      "include_colab_link": true
    },
    "kernelspec": {
      "name": "python3",
      "display_name": "Python 3"
    },
    "language_info": {
      "name": "python"
    }
  },
  "cells": [
    {
      "cell_type": "markdown",
      "metadata": {
        "id": "view-in-github",
        "colab_type": "text"
      },
      "source": [
        "<a href=\"https://colab.research.google.com/github/chuangchai49097/DWDM21/blob/main/Data101.ipynb\" target=\"_parent\"><img src=\"https://colab.research.google.com/assets/colab-badge.svg\" alt=\"Open In Colab\"/></a>"
      ]
    },
    {
      "cell_type": "markdown",
      "metadata": {
        "id": "MXU59PxOz3u2"
      },
      "source": [
        "ข้อความที่อยู่มน text"
      ]
    },
    {
      "cell_type": "code",
      "metadata": {
        "id": "-qjAMC1utAcx"
      },
      "source": [
        "import pandas #วิธีเรียกใช้ package"
      ],
      "execution_count": null,
      "outputs": []
    },
    {
      "cell_type": "code",
      "metadata": {
        "id": "lkmxxdI3tJf7"
      },
      "source": [
        "import pandas as pd #ตั้งชื่อ package เป็น pd เพื่อให้ทำงานได้รวดเร็ว"
      ],
      "execution_count": null,
      "outputs": []
    },
    {
      "cell_type": "markdown",
      "metadata": {
        "id": "u2o2QbSIvAWr"
      },
      "source": [
        "ไฟล์.csv เป็นไฟลฺที่เก็บข้อมูลหลัก และเป็นตารางเข้าใจง่ายๆ"
      ]
    },
    {
      "cell_type": "code",
      "metadata": {
        "colab": {
          "base_uri": "https://localhost:8080/",
          "height": 141
        },
        "id": "9EitVqHVu76y",
        "outputId": "df3dad4a-6903-4e52-a3dd-7ed8a6aada38"
      },
      "source": [
        "data_df = pd.read_csv('data.csv')\n",
        "data_df"
      ],
      "execution_count": null,
      "outputs": [
        {
          "output_type": "execute_result",
          "data": {
            "text/html": [
              "<div>\n",
              "<style scoped>\n",
              "    .dataframe tbody tr th:only-of-type {\n",
              "        vertical-align: middle;\n",
              "    }\n",
              "\n",
              "    .dataframe tbody tr th {\n",
              "        vertical-align: top;\n",
              "    }\n",
              "\n",
              "    .dataframe thead th {\n",
              "        text-align: right;\n",
              "    }\n",
              "</style>\n",
              "<table border=\"1\" class=\"dataframe\">\n",
              "  <thead>\n",
              "    <tr style=\"text-align: right;\">\n",
              "      <th></th>\n",
              "      <th>name</th>\n",
              "      <th>age</th>\n",
              "      <th>city</th>\n",
              "    </tr>\n",
              "  </thead>\n",
              "  <tbody>\n",
              "    <tr>\n",
              "      <th>0</th>\n",
              "      <td>Tom</td>\n",
              "      <td>27</td>\n",
              "      <td>LA</td>\n",
              "    </tr>\n",
              "    <tr>\n",
              "      <th>1</th>\n",
              "      <td>Paul</td>\n",
              "      <td>15</td>\n",
              "      <td>Verginia</td>\n",
              "    </tr>\n",
              "    <tr>\n",
              "      <th>2</th>\n",
              "      <td>Sarah</td>\n",
              "      <td>19</td>\n",
              "      <td>london</td>\n",
              "    </tr>\n",
              "  </tbody>\n",
              "</table>\n",
              "</div>"
            ],
            "text/plain": [
              "    name  age      city\n",
              "0    Tom   27        LA\n",
              "1   Paul   15  Verginia\n",
              "2  Sarah   19    london"
            ]
          },
          "metadata": {
            "tags": []
          },
          "execution_count": 6
        }
      ]
    },
    {
      "cell_type": "code",
      "metadata": {
        "colab": {
          "base_uri": "https://localhost:8080/",
          "height": 141
        },
        "id": "pIiq8D47xU4e",
        "outputId": "fbc6f46d-a06b-42c9-b5c3-b9a6b1edab93"
      },
      "source": [
        "data_df2 = pandas.read_csv('data.csv')\n",
        "data_df2"
      ],
      "execution_count": null,
      "outputs": [
        {
          "output_type": "execute_result",
          "data": {
            "text/html": [
              "<div>\n",
              "<style scoped>\n",
              "    .dataframe tbody tr th:only-of-type {\n",
              "        vertical-align: middle;\n",
              "    }\n",
              "\n",
              "    .dataframe tbody tr th {\n",
              "        vertical-align: top;\n",
              "    }\n",
              "\n",
              "    .dataframe thead th {\n",
              "        text-align: right;\n",
              "    }\n",
              "</style>\n",
              "<table border=\"1\" class=\"dataframe\">\n",
              "  <thead>\n",
              "    <tr style=\"text-align: right;\">\n",
              "      <th></th>\n",
              "      <th>name</th>\n",
              "      <th>age</th>\n",
              "      <th>city</th>\n",
              "    </tr>\n",
              "  </thead>\n",
              "  <tbody>\n",
              "    <tr>\n",
              "      <th>0</th>\n",
              "      <td>Tom</td>\n",
              "      <td>27</td>\n",
              "      <td>LA</td>\n",
              "    </tr>\n",
              "    <tr>\n",
              "      <th>1</th>\n",
              "      <td>Paul</td>\n",
              "      <td>15</td>\n",
              "      <td>Verginia</td>\n",
              "    </tr>\n",
              "    <tr>\n",
              "      <th>2</th>\n",
              "      <td>Sarah</td>\n",
              "      <td>19</td>\n",
              "      <td>london</td>\n",
              "    </tr>\n",
              "  </tbody>\n",
              "</table>\n",
              "</div>"
            ],
            "text/plain": [
              "    name  age      city\n",
              "0    Tom   27        LA\n",
              "1   Paul   15  Verginia\n",
              "2  Sarah   19    london"
            ]
          },
          "metadata": {
            "tags": []
          },
          "execution_count": 7
        }
      ]
    },
    {
      "cell_type": "markdown",
      "metadata": {
        "id": "NRZh-S7IzzPO"
      },
      "source": [
        "# Basic Python\n",
        "## variable\n",
        "1.ชื่้อห้ามเว้นวรรค ใช้ _ \n",
        "\n",
        "2.ใช้ชื่อภาษาอังกฤษ ( Colab ใช้ภาษาไทยได้ แต่ไม่ควรใช้)\n",
        "\n",
        "3.ตัวเล็กกับตัวใหญ่แตกต่างกัน\n",
        "\n",
        "4.ห้ามใช้ตัวเลขเป็นตัวหน้า"
      ]
    },
    {
      "cell_type": "code",
      "metadata": {
        "id": "jFRzQ8Gr0osH"
      },
      "source": [
        "variable_a = 12\n",
        "variable_b = 'abcde' #เรียกว่า quote\n",
        "variable_c = variable_a"
      ],
      "execution_count": null,
      "outputs": []
    },
    {
      "cell_type": "code",
      "metadata": {
        "colab": {
          "base_uri": "https://localhost:8080/"
        },
        "id": "HcGYZ8rq1iEC",
        "outputId": "b9bd2bd6-468a-455f-d757-61b3b4d921da"
      },
      "source": [
        "variable_a"
      ],
      "execution_count": null,
      "outputs": [
        {
          "output_type": "execute_result",
          "data": {
            "text/plain": [
              "12"
            ]
          },
          "metadata": {
            "tags": []
          },
          "execution_count": 11
        }
      ]
    },
    {
      "cell_type": "code",
      "metadata": {
        "colab": {
          "base_uri": "https://localhost:8080/",
          "height": 35
        },
        "id": "qFGx5__x1mPk",
        "outputId": "2dfb7630-e708-47c5-c347-824ea93f2654"
      },
      "source": [
        "variable_b"
      ],
      "execution_count": null,
      "outputs": [
        {
          "output_type": "execute_result",
          "data": {
            "application/vnd.google.colaboratory.intrinsic+json": {
              "type": "string"
            },
            "text/plain": [
              "'abcde'"
            ]
          },
          "metadata": {
            "tags": []
          },
          "execution_count": 12
        }
      ]
    },
    {
      "cell_type": "code",
      "metadata": {
        "colab": {
          "base_uri": "https://localhost:8080/"
        },
        "id": "I-X14j931nSm",
        "outputId": "ce52357c-c8a6-444b-cc48-3fe9b11a3216"
      },
      "source": [
        "variable_c #โชว์ variable_a"
      ],
      "execution_count": null,
      "outputs": [
        {
          "output_type": "execute_result",
          "data": {
            "text/plain": [
              "12"
            ]
          },
          "metadata": {
            "tags": []
          },
          "execution_count": 14
        }
      ]
    },
    {
      "cell_type": "code",
      "metadata": {
        "colab": {
          "base_uri": "https://localhost:8080/"
        },
        "id": "fUFtWfGE1o1J",
        "outputId": "ac97efcd-d131-4187-e71e-dc61d1fc14a5"
      },
      "source": [
        "#ตัวเล็กกับตัวใหญ่แตกต่างกัน(case sensitive)\n",
        "v_a = 1\n",
        "V_a = 2\n",
        "print(v_a)\n",
        "print(V_a)"
      ],
      "execution_count": null,
      "outputs": [
        {
          "output_type": "stream",
          "text": [
            "1\n",
            "2\n"
          ],
          "name": "stdout"
        }
      ]
    },
    {
      "cell_type": "code",
      "metadata": {
        "id": "xvAjESQC4Wub"
      },
      "source": [
        "#ห้ามใช้ตัวเลขเป็นตัวหน้า\n",
        "variable = 1"
      ],
      "execution_count": null,
      "outputs": []
    },
    {
      "cell_type": "code",
      "metadata": {
        "colab": {
          "base_uri": "https://localhost:8080/"
        },
        "id": "kcBHcnSB3cww",
        "outputId": "4270edbb-a342-418c-d294-19bc9319a10f"
      },
      "source": [
        "print(variable)"
      ],
      "execution_count": null,
      "outputs": [
        {
          "output_type": "stream",
          "text": [
            "1\n"
          ],
          "name": "stdout"
        }
      ]
    },
    {
      "cell_type": "code",
      "metadata": {
        "id": "Cyip0L_G4gju"
      },
      "source": [
        "variables_a =  12\n",
        "variables_b = 'abcde'  # ' เรียกว่า quote\n",
        "variables_c = variables_a #ไม่มี quote จะเป็นตัวแปร\n",
        "variables_d =  -41.2\n",
        "variables_4 =  \"KKU\" # \" เรียกใช้ double quote"
      ],
      "execution_count": null,
      "outputs": []
    },
    {
      "cell_type": "code",
      "metadata": {
        "colab": {
          "base_uri": "https://localhost:8080/"
        },
        "id": "BaYoUW-15CTl",
        "outputId": "1b11fba6-cb91-451b-942c-a48aeebbc236"
      },
      "source": [
        "variable_x = variable_c + variable_d\n",
        "print(variable_x)"
      ],
      "execution_count": null,
      "outputs": [
        {
          "output_type": "stream",
          "text": [
            "-29.200000000000003\n"
          ],
          "name": "stdout"
        }
      ]
    },
    {
      "cell_type": "code",
      "metadata": {
        "colab": {
          "base_uri": "https://localhost:8080/"
        },
        "id": "yJ-hCm4m5TN8",
        "outputId": "32d19b92-28ca-44b3-8b40-8e050205f76b"
      },
      "source": [
        "variables_x = variables_c + variables_d\n",
        "print(variables_x)"
      ],
      "execution_count": null,
      "outputs": [
        {
          "output_type": "stream",
          "text": [
            "-29.200000000000003\n"
          ],
          "name": "stdout"
        }
      ]
    },
    {
      "cell_type": "code",
      "metadata": {
        "colab": {
          "base_uri": "https://localhost:8080/",
          "height": 171
        },
        "id": "uOCXBSm5nXMH",
        "outputId": "3eb20ec5-d353-48b2-ffdc-a47f59de3de0"
      },
      "source": [
        "variables_a + variables_b"
      ],
      "execution_count": null,
      "outputs": [
        {
          "output_type": "error",
          "ename": "TypeError",
          "evalue": "ignored",
          "traceback": [
            "\u001b[0;31m---------------------------------------------------------------------------\u001b[0m",
            "\u001b[0;31mTypeError\u001b[0m                                 Traceback (most recent call last)",
            "\u001b[0;32m<ipython-input-71-e28e3d64d791>\u001b[0m in \u001b[0;36m<module>\u001b[0;34m()\u001b[0m\n\u001b[0;32m----> 1\u001b[0;31m \u001b[0mvariables_a\u001b[0m \u001b[0;34m+\u001b[0m \u001b[0mvariables_b\u001b[0m\u001b[0;34m\u001b[0m\u001b[0;34m\u001b[0m\u001b[0m\n\u001b[0m",
            "\u001b[0;31mTypeError\u001b[0m: unsupported operand type(s) for +: 'int' and 'str'"
          ]
        }
      ]
    },
    {
      "cell_type": "code",
      "metadata": {
        "colab": {
          "base_uri": "https://localhost:8080/"
        },
        "id": "1DwCAige6rFH",
        "outputId": "af5710c2-2343-4c0b-f386-ef7db3bb0cfa"
      },
      "source": [
        "print(variable_b + variable_4)"
      ],
      "execution_count": null,
      "outputs": [
        {
          "output_type": "stream",
          "text": [
            "abcdeKKU\n"
          ],
          "name": "stdout"
        }
      ]
    },
    {
      "cell_type": "markdown",
      "metadata": {
        "id": "dkLvJgQPm1tM"
      },
      "source": [
        "## Casting int() float() str()"
      ]
    },
    {
      "cell_type": "code",
      "metadata": {
        "colab": {
          "base_uri": "https://localhost:8080/"
        },
        "id": "wgZItMHDm4bh",
        "outputId": "7cb7c681-cf15-499f-df0a-4bb24078d9a7"
      },
      "source": [
        "print(variables_x)\n",
        "print(int(variables_x)) #ตัดทศนิยมออก เป็นจำนวนเต็ม"
      ],
      "execution_count": null,
      "outputs": [
        {
          "output_type": "stream",
          "text": [
            "-29.200000000000003\n",
            "-29\n"
          ],
          "name": "stdout"
        }
      ]
    },
    {
      "cell_type": "code",
      "metadata": {
        "colab": {
          "base_uri": "https://localhost:8080/"
        },
        "id": "Q1JBEFAinkfk",
        "outputId": "7f72a05c-6b6f-44a9-ebe7-b35659895dae"
      },
      "source": [
        "V_X = str(variables_x)\n",
        "print(V_X)"
      ],
      "execution_count": null,
      "outputs": [
        {
          "output_type": "stream",
          "text": [
            "-29.200000000000003\n"
          ],
          "name": "stdout"
        }
      ]
    },
    {
      "cell_type": "code",
      "metadata": {
        "colab": {
          "base_uri": "https://localhost:8080/",
          "height": 171
        },
        "id": "jmWG6cKUnoCI",
        "outputId": "ef4b4c8c-305e-4294-f089-524a9a02090c"
      },
      "source": [
        "V_X + variables_a "
      ],
      "execution_count": null,
      "outputs": [
        {
          "output_type": "error",
          "ename": "TypeError",
          "evalue": "ignored",
          "traceback": [
            "\u001b[0;31m---------------------------------------------------------------------------\u001b[0m",
            "\u001b[0;31mTypeError\u001b[0m                                 Traceback (most recent call last)",
            "\u001b[0;32m<ipython-input-74-b373408f1d56>\u001b[0m in \u001b[0;36m<module>\u001b[0;34m()\u001b[0m\n\u001b[0;32m----> 1\u001b[0;31m \u001b[0mV_X\u001b[0m \u001b[0;34m+\u001b[0m \u001b[0mvariables_a\u001b[0m\u001b[0;34m\u001b[0m\u001b[0;34m\u001b[0m\u001b[0m\n\u001b[0m",
            "\u001b[0;31mTypeError\u001b[0m: can only concatenate str (not \"int\") to str"
          ]
        }
      ]
    },
    {
      "cell_type": "code",
      "metadata": {
        "colab": {
          "base_uri": "https://localhost:8080/",
          "height": 171
        },
        "id": "eUdFXNPQnpx_",
        "outputId": "4585e2be-2cdd-455a-c16b-51aa16f208e8"
      },
      "source": [
        "variables_a + V_X"
      ],
      "execution_count": null,
      "outputs": [
        {
          "output_type": "error",
          "ename": "TypeError",
          "evalue": "ignored",
          "traceback": [
            "\u001b[0;31m---------------------------------------------------------------------------\u001b[0m",
            "\u001b[0;31mTypeError\u001b[0m                                 Traceback (most recent call last)",
            "\u001b[0;32m<ipython-input-75-1ed2c2905fdc>\u001b[0m in \u001b[0;36m<module>\u001b[0;34m()\u001b[0m\n\u001b[0;32m----> 1\u001b[0;31m \u001b[0mvariables_a\u001b[0m \u001b[0;34m+\u001b[0m \u001b[0mV_X\u001b[0m\u001b[0;34m\u001b[0m\u001b[0;34m\u001b[0m\u001b[0m\n\u001b[0m",
            "\u001b[0;31mTypeError\u001b[0m: unsupported operand type(s) for +: 'int' and 'str'"
          ]
        }
      ]
    },
    {
      "cell_type": "code",
      "metadata": {
        "id": "10iE3DWM6yNr",
        "colab": {
          "base_uri": "https://localhost:8080/",
          "height": 35
        },
        "outputId": "8997984d-dcf0-4374-d46e-c98903025d59"
      },
      "source": [
        "V_X # ถ้ามี ' ยังเป็น str อยู่่"
      ],
      "execution_count": null,
      "outputs": [
        {
          "output_type": "execute_result",
          "data": {
            "application/vnd.google.colaboratory.intrinsic+json": {
              "type": "string"
            },
            "text/plain": [
              "'-29.200000000000003'"
            ]
          },
          "metadata": {
            "tags": []
          },
          "execution_count": 76
        }
      ]
    },
    {
      "cell_type": "code",
      "metadata": {
        "colab": {
          "base_uri": "https://localhost:8080/"
        },
        "id": "wHr7uXYYnuYQ",
        "outputId": "d4864714-112d-4d98-cf67-71827dec18cc"
      },
      "source": [
        "float(V_X) #เปลี่ยนเป็นตัวเลข"
      ],
      "execution_count": null,
      "outputs": [
        {
          "output_type": "execute_result",
          "data": {
            "text/plain": [
              "-29.200000000000003"
            ]
          },
          "metadata": {
            "tags": []
          },
          "execution_count": 77
        }
      ]
    },
    {
      "cell_type": "markdown",
      "metadata": {
        "id": "CG5t57qm-44-"
      },
      "source": [
        "##string คือ list ของตัวหนังสือ"
      ]
    },
    {
      "cell_type": "code",
      "metadata": {
        "id": "ekhszCwS-_GS"
      },
      "source": [
        "a = 'stat aku'"
      ],
      "execution_count": null,
      "outputs": []
    },
    {
      "cell_type": "markdown",
      "metadata": {
        "id": "hKn4nzl-AVCr"
      },
      "source": [
        "List()"
      ]
    },
    {
      "cell_type": "code",
      "metadata": {
        "id": "GiuM7PlmAYU4"
      },
      "source": [
        "list_a =[1,2,0.2,'abs',] #[]square brackets\n",
        "list_b =[2,'xyz',list_a,[1,2,0.0]]"
      ],
      "execution_count": null,
      "outputs": []
    },
    {
      "cell_type": "code",
      "metadata": {
        "colab": {
          "base_uri": "https://localhost:8080/"
        },
        "id": "eFUGBydeBz2-",
        "outputId": "c6cf6056-aa0c-4ea0-f762-27a82d334a88"
      },
      "source": [
        "list_a"
      ],
      "execution_count": null,
      "outputs": [
        {
          "output_type": "execute_result",
          "data": {
            "text/plain": [
              "[1, 2, 0.2, 'abs']"
            ]
          },
          "metadata": {
            "tags": []
          },
          "execution_count": 27
        }
      ]
    },
    {
      "cell_type": "code",
      "metadata": {
        "colab": {
          "base_uri": "https://localhost:8080/"
        },
        "id": "Vil1ZUmwB24M",
        "outputId": "b6c5fac3-30e7-4918-aec9-bdef70b520c1"
      },
      "source": [
        "list_b"
      ],
      "execution_count": null,
      "outputs": [
        {
          "output_type": "execute_result",
          "data": {
            "text/plain": [
              "[2, 'xyz', [1, 2, 0.2, 'abs'], [1, 2, 0.0]]"
            ]
          },
          "metadata": {
            "tags": []
          },
          "execution_count": 28
        }
      ]
    },
    {
      "cell_type": "code",
      "metadata": {
        "colab": {
          "base_uri": "https://localhost:8080/"
        },
        "id": "IOi54BXCB_6Q",
        "outputId": "da4533d8-104d-48a6-da96-9d44c78e69ec"
      },
      "source": [
        "len(list_b)"
      ],
      "execution_count": null,
      "outputs": [
        {
          "output_type": "execute_result",
          "data": {
            "text/plain": [
              "4"
            ]
          },
          "metadata": {
            "tags": []
          },
          "execution_count": 29
        }
      ]
    },
    {
      "cell_type": "code",
      "metadata": {
        "colab": {
          "base_uri": "https://localhost:8080/"
        },
        "id": "JjyoU0aFCFgO",
        "outputId": "cfbd1c49-a2f1-4683-bc25-519f06d1ff23"
      },
      "source": [
        "list_b[3]"
      ],
      "execution_count": null,
      "outputs": [
        {
          "output_type": "execute_result",
          "data": {
            "text/plain": [
              "[1, 2, 0.0]"
            ]
          },
          "metadata": {
            "tags": []
          },
          "execution_count": 30
        }
      ]
    },
    {
      "cell_type": "code",
      "metadata": {
        "colab": {
          "base_uri": "https://localhost:8080/"
        },
        "id": "GoVp6-rKCK6j",
        "outputId": "6f745056-77ff-47d0-cee9-2a8813df0b44"
      },
      "source": [
        "list_b[3][1]#ค่อยๆดูทีละอัน"
      ],
      "execution_count": null,
      "outputs": [
        {
          "output_type": "execute_result",
          "data": {
            "text/plain": [
              "2"
            ]
          },
          "metadata": {
            "tags": []
          },
          "execution_count": 31
        }
      ]
    },
    {
      "cell_type": "markdown",
      "metadata": {
        "id": "OzHFRlOr_tn8"
      },
      "source": [
        "#วิธีสร้าง list ว่าง แบบที่2"
      ]
    },
    {
      "cell_type": "code",
      "metadata": {
        "id": "UzB8McTB_6Ku"
      },
      "source": [
        "List_c = list() #แบบที่ 1\n",
        "List_d = [] #แบบที่ 2"
      ],
      "execution_count": null,
      "outputs": []
    },
    {
      "cell_type": "markdown",
      "metadata": {
        "id": "KzGylML8BGzL"
      },
      "source": [
        "การชี้ค่าใน list (indexing)\n",
        "1.ใช้ลำดับในการชี้\n",
        "2.ลำดับเริ่มจาก 0\n",
        "3. สามมารถชี้จากข้างหลังได้โดย negative index"
      ]
    },
    {
      "cell_type": "code",
      "metadata": {
        "colab": {
          "base_uri": "https://localhost:8080/"
        },
        "id": "lJuy1Tj-BGI1",
        "outputId": "90b55be3-3983-4e7e-927d-182a32d41fe9"
      },
      "source": [
        "list_b"
      ],
      "execution_count": null,
      "outputs": [
        {
          "output_type": "execute_result",
          "data": {
            "text/plain": [
              "[2, 'xyz', [1, 2, 0.2, 'abs'], [1, 2, 0.0]]"
            ]
          },
          "metadata": {
            "tags": []
          },
          "execution_count": 25
        }
      ]
    },
    {
      "cell_type": "code",
      "metadata": {
        "colab": {
          "base_uri": "https://localhost:8080/"
        },
        "id": "w2gTCGErBhNo",
        "outputId": "8e75c269-6cd8-48ca-82ee-155559fe37f1"
      },
      "source": [
        "list_b[-1]"
      ],
      "execution_count": null,
      "outputs": [
        {
          "output_type": "execute_result",
          "data": {
            "text/plain": [
              "[1, 2, 0.0]"
            ]
          },
          "metadata": {
            "tags": []
          },
          "execution_count": 26
        }
      ]
    },
    {
      "cell_type": "markdown",
      "metadata": {
        "id": "PwN6WXXMCZrQ"
      },
      "source": [
        "#list slicing\n",
        "เราจะตัด list โดยเอาตั้งแต่ [ตัวหน้า:ตัวก่อนตัวหลัง]"
      ]
    },
    {
      "cell_type": "code",
      "metadata": {
        "id": "KRMQ_peUBkrQ"
      },
      "source": [
        "list_ex = [1,2,3,5,6,8,-1,20,50,0]"
      ],
      "execution_count": null,
      "outputs": []
    },
    {
      "cell_type": "code",
      "metadata": {
        "colab": {
          "base_uri": "https://localhost:8080/"
        },
        "id": "3r_41BS2CkPD",
        "outputId": "41c15992-77ef-4840-9c74-3aaabdc32144"
      },
      "source": [
        "list_ex[1:6] #เราจะตัด list โดยเอาตั้งแต่ [ตัวหน้า:ตัวก่อนตัวหลัง]"
      ],
      "execution_count": null,
      "outputs": [
        {
          "output_type": "execute_result",
          "data": {
            "text/plain": [
              "[2, 3, 5, 6, 8]"
            ]
          },
          "metadata": {
            "tags": []
          },
          "execution_count": 38
        }
      ]
    },
    {
      "cell_type": "code",
      "metadata": {
        "colab": {
          "base_uri": "https://localhost:8080/"
        },
        "id": "f1iffWfiDZ4c",
        "outputId": "cee1922c-9101-4f67-9e0d-91ab9f7fe371"
      },
      "source": [
        "list_ex[4:]"
      ],
      "execution_count": null,
      "outputs": [
        {
          "output_type": "execute_result",
          "data": {
            "text/plain": [
              "[6, 8, -1, 20, 50, 0]"
            ]
          },
          "metadata": {
            "tags": []
          },
          "execution_count": 39
        }
      ]
    },
    {
      "cell_type": "markdown",
      "metadata": {
        "id": "XCpu8X7xEnd4"
      },
      "source": [
        "#จุดเริ่มต้น:จุดท้ายสุด:"
      ]
    },
    {
      "cell_type": "code",
      "metadata": {
        "colab": {
          "base_uri": "https://localhost:8080/"
        },
        "id": "9-f9Swn4Cnaq",
        "outputId": "6574de73-f798-4bb7-903b-7abae5229b38"
      },
      "source": [
        "list_ex[:6]"
      ],
      "execution_count": null,
      "outputs": [
        {
          "output_type": "execute_result",
          "data": {
            "text/plain": [
              "[1, 2, 3, 5, 6, 8]"
            ]
          },
          "metadata": {
            "tags": []
          },
          "execution_count": 42
        }
      ]
    },
    {
      "cell_type": "markdown",
      "metadata": {
        "id": "_41aTYjMEh7l"
      },
      "source": [
        "list_ex"
      ]
    },
    {
      "cell_type": "code",
      "metadata": {
        "colab": {
          "base_uri": "https://localhost:8080/"
        },
        "id": "6EOkFze1Dn4q",
        "outputId": "54aed4a3-8a90-456f-c74e-12b8540a6078"
      },
      "source": [
        "list_ex[::2] #การ list"
      ],
      "execution_count": null,
      "outputs": [
        {
          "output_type": "execute_result",
          "data": {
            "text/plain": [
              "[1, 3, 6, -1, 50]"
            ]
          },
          "metadata": {
            "tags": []
          },
          "execution_count": 44
        }
      ]
    },
    {
      "cell_type": "markdown",
      "metadata": {
        "id": "0KVyMipBLUQ2"
      },
      "source": [
        "##format string"
      ]
    },
    {
      "cell_type": "code",
      "metadata": {
        "colab": {
          "base_uri": "https://localhost:8080/",
          "height": 35
        },
        "id": "4ykV2Lw4LYId",
        "outputId": "167d3b1b-fbd1-445f-f689-5a263711d8ea"
      },
      "source": [
        "f'ตัวแปร list_a มีค่าคือ {list_a}'"
      ],
      "execution_count": null,
      "outputs": [
        {
          "output_type": "execute_result",
          "data": {
            "application/vnd.google.colaboratory.intrinsic+json": {
              "type": "string"
            },
            "text/plain": [
              "\"ตัวแปร list_a มีค่าคือ [1, 2, 0.2, 'abs']\""
            ]
          },
          "metadata": {
            "tags": []
          },
          "execution_count": 52
        }
      ]
    },
    {
      "cell_type": "markdown",
      "metadata": {
        "id": "J7DGCetTJimW"
      },
      "source": [
        "#Loop\n",
        "for ตัวแปรที่จะรับค่าจากlist in list ที่จะนำมาวนลูป:do something "
      ]
    },
    {
      "cell_type": "code",
      "metadata": {
        "colab": {
          "base_uri": "https://localhost:8080/"
        },
        "id": "6N8RTTE-FdR2",
        "outputId": "b73930a3-8fa0-4723-8f23-e2c8ffd261b2"
      },
      "source": [
        "for i in [1, 2, 3, 4, 5] :\n",
        "     print(i+1)"
      ],
      "execution_count": null,
      "outputs": [
        {
          "output_type": "stream",
          "text": [
            "2\n",
            "3\n",
            "4\n",
            "5\n",
            "6\n"
          ],
          "name": "stdout"
        }
      ]
    },
    {
      "cell_type": "code",
      "metadata": {
        "colab": {
          "base_uri": "https://localhost:8080/"
        },
        "id": "ATDKjvQPK-Jg",
        "outputId": "358617a1-f1af-4324-99ba-7d70422427d5"
      },
      "source": [
        "list5 = [1,2,3,4,5]\n",
        "for x in list5 :\n",
        "     print(f'ค่าตัวแปร x คือ {x} และ x+2={x+2}')  "
      ],
      "execution_count": null,
      "outputs": [
        {
          "output_type": "stream",
          "text": [
            "ค่าตัวแปร x คือ 1 และ x+2=3\n",
            "ค่าตัวแปร x คือ 2 และ x+2=4\n",
            "ค่าตัวแปร x คือ 3 และ x+2=5\n",
            "ค่าตัวแปร x คือ 4 และ x+2=6\n",
            "ค่าตัวแปร x คือ 5 และ x+2=7\n"
          ],
          "name": "stdout"
        }
      ]
    },
    {
      "cell_type": "code",
      "metadata": {
        "id": "C9iHhnUgMw2P",
        "colab": {
          "base_uri": "https://localhost:8080/"
        },
        "outputId": "18e06825-cdad-4eb1-9989-b8c5455d4be3"
      },
      "source": [
        "list(range(10))"
      ],
      "execution_count": null,
      "outputs": [
        {
          "output_type": "execute_result",
          "data": {
            "text/plain": [
              "[0, 1, 2, 3, 4, 5, 6, 7, 8, 9]"
            ]
          },
          "metadata": {
            "tags": []
          },
          "execution_count": 80
        }
      ]
    },
    {
      "cell_type": "code",
      "metadata": {
        "colab": {
          "base_uri": "https://localhost:8080/"
        },
        "id": "hFfy6IrIoJ9n",
        "outputId": "58f55ff1-5ef0-4093-9568-b0b09a3bb4ce"
      },
      "source": [
        "for i in range(2 ,7) :\n",
        "    print(i) "
      ],
      "execution_count": null,
      "outputs": [
        {
          "output_type": "stream",
          "text": [
            "2\n",
            "3\n",
            "4\n",
            "5\n",
            "6\n"
          ],
          "name": "stdout"
        }
      ]
    },
    {
      "cell_type": "code",
      "metadata": {
        "colab": {
          "base_uri": "https://localhost:8080/"
        },
        "id": "SRTRRWknoK7J",
        "outputId": "ce81c495-10f0-481e-c8c7-f033bd5e3900"
      },
      "source": [
        "for i in range(2 ,7,2) :\n",
        "    print(i) "
      ],
      "execution_count": null,
      "outputs": [
        {
          "output_type": "stream",
          "text": [
            "2\n",
            "4\n",
            "6\n"
          ],
          "name": "stdout"
        }
      ]
    },
    {
      "cell_type": "code",
      "metadata": {
        "colab": {
          "base_uri": "https://localhost:8080/"
        },
        "id": "6M1ZfagYoMUJ",
        "outputId": "6a6edf91-22b8-4ca4-e8d5-87e6bfc147b0"
      },
      "source": [
        "for i in range(5) :\n",
        "    print('hahaha') "
      ],
      "execution_count": null,
      "outputs": [
        {
          "output_type": "stream",
          "text": [
            "hahaha\n",
            "hahaha\n",
            "hahaha\n",
            "hahaha\n",
            "hahaha\n"
          ],
          "name": "stdout"
        }
      ]
    },
    {
      "cell_type": "code",
      "metadata": {
        "colab": {
          "base_uri": "https://localhost:8080/"
        },
        "id": "ixAgD_O5oNXV",
        "outputId": "f509e9df-9ff4-4756-defe-48d329914b59"
      },
      "source": [
        "for i in range(5) :\n",
        "    print('hahaha') \n",
        "    x = i+3\n",
        "    print(f'i={i} x={x}')"
      ],
      "execution_count": null,
      "outputs": [
        {
          "output_type": "stream",
          "text": [
            "hahaha\n",
            "i=0 x=3\n",
            "hahaha\n",
            "i=1 x=4\n",
            "hahaha\n",
            "i=2 x=5\n",
            "hahaha\n",
            "i=3 x=6\n",
            "hahaha\n",
            "i=4 x=7\n"
          ],
          "name": "stdout"
        }
      ]
    },
    {
      "cell_type": "markdown",
      "metadata": {
        "id": "Xg9aHn9toTNT"
      },
      "source": [
        "##Nested loop"
      ]
    },
    {
      "cell_type": "code",
      "metadata": {
        "colab": {
          "base_uri": "https://localhost:8080/"
        },
        "id": "Q1Z5iqvSoOSK",
        "outputId": "e6286cef-4237-426d-c739-957bee761296"
      },
      "source": [
        "for i in range(3) :\n",
        "    print(f'now i = {i} ')  ##เว้นวรรคให้ตรงกัน\n",
        "    print(' start j loop ')  ##เว้นวรรคให้ตรงกัน\n",
        "    for j in range(4) : ##เว้นวรรคให้ตรงกัน\n",
        "          print (f' i = {i} j = {j} i+j = {i+j}')\n",
        "    print( 'end j loop'  )"
      ],
      "execution_count": null,
      "outputs": [
        {
          "output_type": "stream",
          "text": [
            "now i = 0 \n",
            " start j loop \n",
            " i = 0 j = 0 i+j = 0\n",
            " i = 0 j = 1 i+j = 1\n",
            " i = 0 j = 2 i+j = 2\n",
            " i = 0 j = 3 i+j = 3\n",
            "end j loop\n",
            "now i = 1 \n",
            " start j loop \n",
            " i = 1 j = 0 i+j = 1\n",
            " i = 1 j = 1 i+j = 2\n",
            " i = 1 j = 2 i+j = 3\n",
            " i = 1 j = 3 i+j = 4\n",
            "end j loop\n",
            "now i = 2 \n",
            " start j loop \n",
            " i = 2 j = 0 i+j = 2\n",
            " i = 2 j = 1 i+j = 3\n",
            " i = 2 j = 2 i+j = 4\n",
            " i = 2 j = 3 i+j = 5\n",
            "end j loop\n"
          ],
          "name": "stdout"
        }
      ]
    },
    {
      "cell_type": "markdown",
      "metadata": {
        "id": "hBRw38goQz7x"
      },
      "source": [
        "## **Condition (If Statement)**\n",
        "\n",
        "\n",
        "\n",
        "```\n",
        "if เงื่อนไขที่จะตรวจสอบ ( ==, !=, <, >, <=, >=) :\n",
        "  ถ้าเงื่อนไขเป็นจริง ทำงาน 1\n",
        "  ถ้าเงื่อนไขเป็นจริง ทำงาน 2\n",
        "elif เงื่อนไขที่จะตรวจสอบต่อไปถ้าเงื่อนไขข้างบนไม่เป็นจริง:\n",
        "  ถ้าเงื่อนไขเป็นจริง ทำงาน a1\n",
        "  ถ้าเงื่อนไขเป็นจริง ทำงาน a2\n",
        "elif เงื่อนไขที่จะตรวจสอบต่อไปถ้าเงื่อนไขข้างบนไม่เป็นจริง:\n",
        "  ถ้าเงื่อนไขเป็นจริง ทำงาน b1\n",
        "  ถ้าเงื่อนไขเป็นจริง ทำงาน b2\n",
        "else : #ตรวจสอบเงื่อนไขข้างบนแล้วไม่เป็นจริง\n",
        "  ทำงานที่ x\n",
        "```"
      ]
    },
    {
      "cell_type": "code",
      "metadata": {
        "id": "uDKZcsREoUjt"
      },
      "source": [
        "list_ex =[1,5,9,-19,-2,0] #หาค่าน้อยที่สุดใน list_ex โดยใช้ Function min (comit ก่อน 10.30:Quiz1)"
      ],
      "execution_count": null,
      "outputs": []
    },
    {
      "cell_type": "code",
      "metadata": {
        "id": "xs0BEkGMROsA"
      },
      "source": [
        "stringx = 'ajaiopakdfapodkapdfka'\n",
        "\n",
        "if len(stringx) > 30:\n",
        "  print (f'{string} is longer than 30 charecters')"
      ],
      "execution_count": null,
      "outputs": []
    },
    {
      "cell_type": "code",
      "metadata": {
        "colab": {
          "base_uri": "https://localhost:8080/"
        },
        "id": "0LuNwFZCP9n3",
        "outputId": "16a895c5-d4ec-441f-f561-67162753184c"
      },
      "source": [
        "stringx = 'ajaiopakdfapodkapdfka'\n",
        "\n",
        "if len(stringx) > 100:\n",
        "  print (f'{string} is longer than 100 charecters')\n",
        "else :\n",
        "  print (f'{stringx} is {len(stringx)} charecters long')"
      ],
      "execution_count": null,
      "outputs": [
        {
          "output_type": "stream",
          "text": [
            "ajaiopakdfapodkapdfka is 21 charecters long\n"
          ],
          "name": "stdout"
        }
      ]
    },
    {
      "cell_type": "code",
      "metadata": {
        "colab": {
          "base_uri": "https://localhost:8080/"
        },
        "id": "9n3AHQy8RUHW",
        "outputId": "747c9568-a85e-42c7-88c6-aa9114f7f104"
      },
      "source": [
        "password = '12345'\n",
        "\n",
        "input_pass = '123'\n",
        "if input_pass == password:\n",
        "  print('Welcome!')\n",
        "elif len(input_pass) > len(password) :\n",
        "  print ('Too long, Try again')\n",
        "elif len(input_pass) < len(password) :\n",
        "  print ('Too short, Try again')\n",
        "else :\n",
        "  print ('Wrong passwords, Try again')"
      ],
      "execution_count": null,
      "outputs": [
        {
          "output_type": "stream",
          "text": [
            "Too short, Try again\n"
          ],
          "name": "stdout"
        }
      ]
    },
    {
      "cell_type": "markdown",
      "metadata": {
        "id": "8jduf6XeRcNF"
      },
      "source": [
        "#Quiz 1 หา min[link text](https://)"
      ]
    },
    {
      "cell_type": "code",
      "metadata": {
        "id": "iTSbnkCMRWlb"
      },
      "source": [
        "list_ex =[1,5,9,-19,-2,0] #หาค่าน้อยที่สุดใน list_ex โดยใช้ Function min (comit ก่อน 10.30:Quiz1)"
      ],
      "execution_count": null,
      "outputs": []
    },
    {
      "cell_type": "code",
      "metadata": {
        "id": "TqpRyXuTRuRE",
        "colab": {
          "base_uri": "https://localhost:8080/"
        },
        "outputId": "d7c1e560-68c7-488e-fe31-0fa5815dce0b"
      },
      "source": [
        "min = 1000000\n",
        "for i in list_ex: #แทน i เป็นค่าแต่ละตัวใน list_ex\n",
        "    if i < min: #I น้อยกว่า min\n",
        "      min=i\n",
        "print(min)"
      ],
      "execution_count": null,
      "outputs": [
        {
          "output_type": "stream",
          "text": [
            "-19\n"
          ],
          "name": "stdout"
        }
      ]
    },
    {
      "cell_type": "code",
      "metadata": {
        "colab": {
          "base_uri": "https://localhost:8080/"
        },
        "id": "dwWMrlKxTFTS",
        "outputId": "7cec44c9-3d6e-420f-bf13-fcf85e13277c"
      },
      "source": [
        "min = 1000000\n",
        "print(list_ex)\n",
        "for i in list_ex:\n",
        "    print(f'now i ={i}, min = {min}')\n",
        "    if i < min:\n",
        "      print(f'i < min, update min -> {i}')\n",
        "      min = i\n",
        "    else:\n",
        "      print('i >= min, not update')\n",
        "      print('end condition, go to next i')\n",
        "      print(min)"
      ],
      "execution_count": null,
      "outputs": [
        {
          "output_type": "stream",
          "text": [
            "[1, 5, 9, -19, -2, 0]\n",
            "now i =1, min = 1000000\n",
            "i < min, update min -> 1\n",
            "now i =5, min = 1\n",
            "i >= min, not update\n",
            "end condition, go to next i\n",
            "1\n",
            "now i =9, min = 1\n",
            "i >= min, not update\n",
            "end condition, go to next i\n",
            "1\n",
            "now i =-19, min = 1\n",
            "i < min, update min -> -19\n",
            "now i =-2, min = -19\n",
            "i >= min, not update\n",
            "end condition, go to next i\n",
            "-19\n",
            "now i =0, min = -19\n",
            "i >= min, not update\n",
            "end condition, go to next i\n",
            "-19\n"
          ],
          "name": "stdout"
        }
      ]
    },
    {
      "cell_type": "markdown",
      "metadata": {
        "id": "y72PkmhOVtNc"
      },
      "source": [
        "#Hw 3 ตัวตัดเกรด"
      ]
    },
    {
      "cell_type": "code",
      "metadata": {
        "id": "sPHNyXrTU83_",
        "colab": {
          "base_uri": "https://localhost:8080/"
        },
        "outputId": "632281f6-0ff8-403d-a91f-73ece5279144"
      },
      "source": [
        "score = [49,65,70,95,82,55,89,20,77,77,81,59,10] #ตัดเกรดคะแนนใน list ()\n",
        "list_score = [49,65,70,95,82,55,89,20,77,77,81,59,10]\n",
        "for i in list_score:\n",
        "    if 80 <= i <= 100:\n",
        "        print(f'Score ={i}, Grad A')\n",
        "    elif 70 <= i <=79:\n",
        "        print(f'Score ={i}, Grad B')\n",
        "    elif 60 <= i <= 69:\n",
        "        print(f'Score ={i}, Grad C')\n",
        "    elif 50 <= i <= 59:\n",
        "        print(f'Score ={i}, Grad D')\n",
        "    elif 0 <= i <= 49:\n",
        "        print(f'Score ={i}, Grad F')\n"
      ],
      "execution_count": 53,
      "outputs": [
        {
          "output_type": "stream",
          "text": [
            "Score =49, Grad F\n",
            "Score =65, Grad C\n",
            "Score =70, Grad B\n",
            "Score =95, Grad A\n",
            "Score =82, Grad A\n",
            "Score =55, Grad D\n",
            "Score =89, Grad A\n",
            "Score =20, Grad F\n",
            "Score =77, Grad B\n",
            "Score =77, Grad B\n",
            "Score =81, Grad A\n",
            "Score =59, Grad D\n",
            "Score =10, Grad F\n"
          ],
          "name": "stdout"
        }
      ]
    },
    {
      "cell_type": "code",
      "metadata": {
        "id": "7wLLTvkA8pa0"
      },
      "source": [
        ""
      ],
      "execution_count": null,
      "outputs": []
    }
  ]
}